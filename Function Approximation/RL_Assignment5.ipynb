{
  "nbformat": 4,
  "nbformat_minor": 0,
  "metadata": {
    "colab": {
      "name": "RL_Assignment5.ipynb",
      "provenance": [],
      "collapsed_sections": [],
      "toc_visible": true
    },
    "kernelspec": {
      "name": "python3",
      "display_name": "Python 3"
    },
    "language_info": {
      "name": "python"
    }
  },
  "cells": [
    {
      "cell_type": "code",
      "execution_count": null,
      "metadata": {
        "id": "4pUoDOW5Unr-"
      },
      "outputs": [],
      "source": [
        "import math\n",
        "import copy\n",
        "\n",
        "import gym\n",
        "import pickle\n",
        "import numpy as np\n",
        "import seaborn as sns\n",
        "from tqdm import tqdm\n",
        "from collections import deque\n",
        "import matplotlib.pyplot as plt\n",
        "\n",
        "import torch\n",
        "torch.manual_seed(0) # set random seed\n",
        "import torch.nn as nn\n",
        "import torch.nn.functional as F\n",
        "import torch.optim as optim"
      ]
    },
    {
      "cell_type": "markdown",
      "source": [
        "# Linear Function Approximation"
      ],
      "metadata": {
        "id": "Yu8D8XdjAl42"
      }
    },
    {
      "cell_type": "code",
      "source": [
        "class QLearning:\n",
        "    def __init__(self, env, num_episodes, epsilon, lr, discount, min_eps, coding):\n",
        "        self.env = env\n",
        "        self.num_episodes = num_episodes\n",
        "        self.epsilon = epsilon\n",
        "        self.lr = lr\n",
        "        self.discount = discount\n",
        "        self.min_eps = min_eps\n",
        "        self.coding = coding\n",
        "\n",
        "    def _init_variables(self):\n",
        "        self.w = np.random.randn(self.coding.vect_len, 1)\n",
        "        self.reward_list = []\n",
        "        self.avg_reward_list = []\n",
        "\n",
        "    def _get_next_action(self, state_feat):\n",
        "        Q = self._get_state_action_value(state_feat)\n",
        "\n",
        "        if np.random.random() < 1 - self.epsilon:\n",
        "            action = np.argmax(Q) \n",
        "        else:\n",
        "            action = np.random.randint(0, self.env.action_space.n)\n",
        "        \n",
        "        return action\n",
        "\n",
        "    def _get_state_action_value(self, state_feat):\n",
        "        '''\n",
        "            Get state-action value for each action\n",
        "        '''\n",
        "        Q = []\n",
        "        for i in range(self.env.action_space.n):\n",
        "            Q.append(np.dot(self.coding.get_vector(state_feat, i).T, self.w))\n",
        "\n",
        "        return np.array([Q])\n",
        "\n",
        "    def run(self, verbose=True):\n",
        "        self._init_variables()\n",
        "        # error_list = []\n",
        "\n",
        "        for i in range(self.num_episodes):\n",
        "            state = self.env.reset()\n",
        "            is_episode_completed = False\n",
        "            total_reward = 0\n",
        "            reward = 0\n",
        "            # total_error = 0\n",
        "            \n",
        "            while is_episode_completed != True:\n",
        "                state_feat = self.coding.get_features(state)              \n",
        "                action = self._get_next_action(state_feat)\n",
        "\n",
        "                next_state, reward, is_episode_completed, _ = self.env.step(action)\n",
        "                next_state_feat = self.coding.get_features(next_state)\n",
        "\n",
        "                # Terminal states\n",
        "                if is_episode_completed and next_state[0] >= 0.5:\n",
        "                    x = self.coding.get_vector(state_feat, action)\n",
        "                    error = (reward - np.dot(x.T, self.w))\n",
        "                    delta = self.lr*error*x\n",
        "                    \n",
        "                    self.w += delta\n",
        "                \n",
        "                # Update current estimates\n",
        "                else:\n",
        "                    x = self.coding.get_vector(state_feat, action)\n",
        "                    error = (reward + \n",
        "                        self.discount*np.max(self._get_state_action_value(next_state_feat)) - \n",
        "                        np.dot(x.T, self.w)\n",
        "                    )\n",
        "                    delta = self.lr*error*x\n",
        "                    self.w += delta\n",
        "\n",
        "                # Update variables\n",
        "                total_reward += reward\n",
        "                # total_error += error**2\n",
        "                state = next_state\n",
        "\n",
        "            self.epsilon = max(self.epsilon*0.99, self.min_eps)\n",
        "\n",
        "            self.reward_list.append(total_reward)\n",
        "            # error_list.append(total_error)\n",
        "\n",
        "            if (i+1) % 100 == 0:\n",
        "                avg_reward = np.mean(self.reward_list)\n",
        "                self.avg_reward_list.append(avg_reward)\n",
        "                # avg_error = np.mean(error_list)\n",
        "                self.reward_list = []\n",
        "                # error_list = []\n",
        "            \n",
        "            if (i+1) % 100 == 0 and verbose:    \n",
        "                print('Episode {} Average Reward: {}'.format(i+1, avg_reward))\n",
        "            \n",
        "        self.env.close()"
      ],
      "metadata": {
        "id": "tWt-urfm6AqP"
      },
      "execution_count": null,
      "outputs": []
    },
    {
      "cell_type": "code",
      "source": [
        "class SARSA:\n",
        "    def __init__(self, env, num_episodes, epsilon, lr, discount, min_eps, coding):\n",
        "        self.env = env\n",
        "        self.num_episodes = num_episodes\n",
        "        self.epsilon = epsilon\n",
        "        self.lr = lr\n",
        "        self.discount = discount\n",
        "        self.min_eps = min_eps\n",
        "        self.coding = coding\n",
        "\n",
        "    def _init_variables(self):\n",
        "        self.w = np.random.randn(self.coding.vect_len, 1)\n",
        "        self.reward_list = []\n",
        "        self.avg_reward_list = []\n",
        "\n",
        "    def _get_next_action(self, state_feat):\n",
        "        Q = self._get_state_action_value(state_feat)\n",
        "\n",
        "        if np.random.random() < 1 - self.epsilon:\n",
        "            action = np.argmax(Q) \n",
        "        else:\n",
        "            action = np.random.randint(0, self.env.action_space.n)\n",
        "        \n",
        "        return action\n",
        "\n",
        "    def _get_state_action_value(self, state_feat):\n",
        "        '''\n",
        "            Get state-action value for each action\n",
        "        '''\n",
        "        Q = []\n",
        "        for i in range(self.env.action_space.n):\n",
        "            Q.append(np.dot(self.coding.get_vector(state_feat, i).T, self.w))\n",
        "\n",
        "        return np.array([Q])\n",
        "\n",
        "    def run(self, verbose=True):\n",
        "        self._init_variables()\n",
        "\n",
        "        for i in range(self.num_episodes):\n",
        "            state = self.env.reset()\n",
        "            is_episode_completed = False\n",
        "            total_reward = 0\n",
        "            reward = 0\n",
        "\n",
        "            state_feat = self.coding.get_features(state)\n",
        "\n",
        "            while is_episode_completed != True:\n",
        "                action = self._get_next_action(state_feat)\n",
        "\n",
        "                next_state, reward, is_episode_completed, _ = self.env.step(action)\n",
        "                next_state_feat = self.coding.get_features(next_state)\n",
        "\n",
        "                next_action = self._get_next_action(next_state_feat)\n",
        "\n",
        "                # Terminal states\n",
        "                if is_episode_completed and next_state[0] >= 0.5:\n",
        "                    x = self.coding.get_vector(state_feat, action)\n",
        "                    delta = self.lr*(reward - np.dot(x.T, self.w))*x\n",
        "                    \n",
        "                    self.w += delta\n",
        "                \n",
        "                # Update current estimates\n",
        "                else:\n",
        "                    x = self.coding.get_vector(state_feat, action)\n",
        "                    y = self.coding.get_vector(next_state_feat, next_action)\n",
        "                    delta = self.lr*(reward + \n",
        "                        self.discount*np.dot(y.T, self.w) - \n",
        "                        np.dot(x.T, self.w)\n",
        "                    )*x\n",
        "                    self.w += delta\n",
        "\n",
        "                # Update variables\n",
        "                total_reward += reward\n",
        "                state_feat = next_state_feat\n",
        "\n",
        "            self.epsilon = max(self.epsilon*0.99, self.min_eps)\n",
        "\n",
        "            self.reward_list.append(total_reward)\n",
        "\n",
        "            if (i+1) % 100 == 0:\n",
        "                avg_reward = np.mean(self.reward_list)\n",
        "                self.avg_reward_list.append(avg_reward)\n",
        "                self.reward_list = []\n",
        "            \n",
        "            if (i+1) % 100 == 0 and verbose:    \n",
        "                print('Episode {} Average Reward: {}'.format(i+1, avg_reward))\n",
        "            \n",
        "        self.env.close()"
      ],
      "metadata": {
        "id": "dASV8VjOmwcK"
      },
      "execution_count": null,
      "outputs": []
    },
    {
      "cell_type": "markdown",
      "source": [
        "## Mountain Car"
      ],
      "metadata": {
        "id": "gslvpXegBbgm"
      }
    },
    {
      "cell_type": "markdown",
      "source": [
        "### Tile Coding"
      ],
      "metadata": {
        "id": "SjrM-DCYFdtw"
      }
    },
    {
      "cell_type": "code",
      "source": [
        "class TileCoding:\n",
        "    def __init__(self, num_tile_per_dim, env, num_tiling):\n",
        "        self.num_tile_per_dim = num_tile_per_dim\n",
        "        self.max_val = env.observation_space.high\n",
        "        self.min_val = env.observation_space.low\n",
        "\n",
        "        self.num_actions = env.action_space.n\n",
        "        self.num_tiling = num_tiling\n",
        "\n",
        "        self.tile_width = np.array([\n",
        "            (self.max_val[i] - self.min_val[i])/self.num_tile_per_dim[i] \n",
        "            for i in range(num_tile_per_dim.shape[0])\n",
        "        ])\n",
        "\n",
        "        self.displ_vect = np.array([2*i + 1 for i in range(num_tile_per_dim.shape[0])])\n",
        "\n",
        "        self.rate = self.displ_vect*(self.tile_width/self.num_tiling)\n",
        "\n",
        "        self.num_tiles_per_tiling = np.prod(self.num_tile_per_dim)\n",
        "\n",
        "        self.multiplier = [1]\n",
        "        for i, num_tile in enumerate(self.num_tile_per_dim[-2::-1]):\n",
        "            self.multiplier.append(self.multiplier[i]*num_tile)\n",
        "\n",
        "        self.vect_len = self.num_tiles_per_tiling*self.num_tiling*self.num_actions\n",
        "\n",
        "    def get_features(self, state):\n",
        "        features = [(state - self.rate*i - self.min_val)/self.tile_width for i in range(self.num_tiling)]\n",
        "\n",
        "        features = np.floor(features)\n",
        "        features = features.astype(np.int32)\n",
        "\n",
        "        return features\n",
        "\n",
        "    def get_vector(self, features, action=None, normalize=False):  \n",
        "        if action is not None:\n",
        "            one_hot_vector = np.zeros((\n",
        "                self.num_tiles_per_tiling*self.num_tiling*self.num_actions, 1))\n",
        "            \n",
        "            for i in range(self.num_tiling):\n",
        "                if np.all(features[i] >= 0):\n",
        "                    one_hot_vector[self.num_tiles_per_tiling * self.num_actions * i + \n",
        "                        np.sum(features[i]*list(reversed(self.multiplier))) * self.num_actions + action] = 1\n",
        "        else:\n",
        "            one_hot_vector = np.zeros((self.num_tiles_per_tiling*self.num_tiling, 1))\n",
        "            for i in range(self.num_tiling):\n",
        "                if np.all(features[i] >= 0):\n",
        "                    one_hot_vector[self.num_tiles_per_tiling * i + \n",
        "                        np.sum(features[i]*list(reversed(self.multiplier)))] = 1\n",
        "        \n",
        "        if normalize:\n",
        "            one_hot_vector /= np.linalg.norm(one_hot_vector)\n",
        "\n",
        "        return one_hot_vector"
      ],
      "metadata": {
        "id": "57TZGwTTUxXe"
      },
      "execution_count": null,
      "outputs": []
    },
    {
      "cell_type": "markdown",
      "source": [
        "#### Q-Learning"
      ],
      "metadata": {
        "id": "69tvz8eZFFzn"
      }
    },
    {
      "cell_type": "code",
      "source": [
        "np.random.seed(42)\n",
        "rewards = []\n",
        "for i in tqdm(range(2)):\n",
        "    env = gym.make('MountainCar-v0')\n",
        "    env.reset()\n",
        "\n",
        "    tile_coding = TileCoding(np.array([14, 14]), env, 7) \n",
        "    \n",
        "    q_learning = QLearning(env, num_episodes = 5000, epsilon = 0.8, lr = 0.3/tile_coding.num_tiling, discount = 0.99, min_eps = 0.0, coding=tile_coding)\n",
        "    q_learning.run()\n",
        "    rewards.append(q_learning.avg_reward_list)"
      ],
      "metadata": {
        "colab": {
          "base_uri": "https://localhost:8080/"
        },
        "id": "IEpPxDr6efTu",
        "outputId": "4e0f9871-62e8-4e41-e982-dfc54d07f9d6"
      },
      "execution_count": null,
      "outputs": [
        {
          "output_type": "stream",
          "name": "stderr",
          "text": [
            "\r  0%|          | 0/2 [00:00<?, ?it/s]"
          ]
        },
        {
          "output_type": "stream",
          "name": "stdout",
          "text": [
            "Episode 100 Average Reward: -200.0\n",
            "Episode 200 Average Reward: -197.35\n",
            "Episode 300 Average Reward: -186.58\n",
            "Episode 400 Average Reward: -172.83\n",
            "Episode 500 Average Reward: -161.37\n",
            "Episode 600 Average Reward: -146.24\n",
            "Episode 700 Average Reward: -130.53\n",
            "Episode 800 Average Reward: -136.29\n",
            "Episode 900 Average Reward: -133.91\n",
            "Episode 1000 Average Reward: -129.49\n",
            "Episode 1100 Average Reward: -129.82\n",
            "Episode 1200 Average Reward: -121.03\n",
            "Episode 1300 Average Reward: -129.82\n",
            "Episode 1400 Average Reward: -122.63\n",
            "Episode 1500 Average Reward: -133.39\n",
            "Episode 1600 Average Reward: -121.38\n",
            "Episode 1700 Average Reward: -114.66\n",
            "Episode 1800 Average Reward: -118.67\n",
            "Episode 1900 Average Reward: -121.17\n",
            "Episode 2000 Average Reward: -125.12\n",
            "Episode 2100 Average Reward: -117.74\n",
            "Episode 2200 Average Reward: -114.21\n",
            "Episode 2300 Average Reward: -118.66\n",
            "Episode 2400 Average Reward: -112.77\n",
            "Episode 2500 Average Reward: -118.95\n",
            "Episode 2600 Average Reward: -109.32\n",
            "Episode 2700 Average Reward: -117.09\n",
            "Episode 2800 Average Reward: -115.87\n",
            "Episode 2900 Average Reward: -117.28\n",
            "Episode 3000 Average Reward: -117.13\n",
            "Episode 3100 Average Reward: -113.41\n",
            "Episode 3200 Average Reward: -116.96\n",
            "Episode 3300 Average Reward: -115.5\n",
            "Episode 3400 Average Reward: -110.94\n",
            "Episode 3500 Average Reward: -120.36\n",
            "Episode 3600 Average Reward: -114.27\n",
            "Episode 3700 Average Reward: -117.07\n",
            "Episode 3800 Average Reward: -115.37\n",
            "Episode 3900 Average Reward: -116.64\n",
            "Episode 4000 Average Reward: -113.46\n",
            "Episode 4100 Average Reward: -113.41\n",
            "Episode 4200 Average Reward: -114.99\n",
            "Episode 4300 Average Reward: -108.24\n",
            "Episode 4400 Average Reward: -113.66\n",
            "Episode 4500 Average Reward: -111.37\n",
            "Episode 4600 Average Reward: -118.88\n",
            "Episode 4700 Average Reward: -112.14\n",
            "Episode 4800 Average Reward: -110.05\n",
            "Episode 4900 Average Reward: -115.22\n"
          ]
        },
        {
          "output_type": "stream",
          "name": "stderr",
          "text": [
            "\r 50%|█████     | 1/2 [12:43<12:43, 763.25s/it]"
          ]
        },
        {
          "output_type": "stream",
          "name": "stdout",
          "text": [
            "Episode 5000 Average Reward: -112.35\n",
            "Episode 100 Average Reward: -200.0\n",
            "Episode 200 Average Reward: -198.7\n",
            "Episode 300 Average Reward: -185.97\n",
            "Episode 400 Average Reward: -174.63\n",
            "Episode 500 Average Reward: -161.6\n",
            "Episode 600 Average Reward: -136.74\n",
            "Episode 700 Average Reward: -138.1\n",
            "Episode 800 Average Reward: -139.86\n",
            "Episode 900 Average Reward: -132.99\n",
            "Episode 1000 Average Reward: -133.61\n",
            "Episode 1100 Average Reward: -134.91\n",
            "Episode 1200 Average Reward: -127.74\n",
            "Episode 1300 Average Reward: -122.73\n",
            "Episode 1400 Average Reward: -124.58\n",
            "Episode 1500 Average Reward: -128.55\n",
            "Episode 1600 Average Reward: -125.6\n",
            "Episode 1700 Average Reward: -133.5\n",
            "Episode 1800 Average Reward: -133.32\n",
            "Episode 1900 Average Reward: -128.68\n",
            "Episode 2000 Average Reward: -118.15\n",
            "Episode 2100 Average Reward: -122.34\n",
            "Episode 2200 Average Reward: -122.53\n",
            "Episode 2300 Average Reward: -116.94\n",
            "Episode 2400 Average Reward: -121.19\n",
            "Episode 2500 Average Reward: -116.21\n",
            "Episode 2600 Average Reward: -123.75\n",
            "Episode 2700 Average Reward: -119.14\n",
            "Episode 2800 Average Reward: -112.14\n",
            "Episode 2900 Average Reward: -119.9\n",
            "Episode 3000 Average Reward: -115.7\n",
            "Episode 3100 Average Reward: -120.45\n",
            "Episode 3200 Average Reward: -114.37\n",
            "Episode 3300 Average Reward: -115.54\n",
            "Episode 3400 Average Reward: -116.85\n",
            "Episode 3500 Average Reward: -115.93\n",
            "Episode 3600 Average Reward: -115.39\n",
            "Episode 3700 Average Reward: -112.18\n",
            "Episode 3800 Average Reward: -117.37\n",
            "Episode 3900 Average Reward: -114.65\n",
            "Episode 4000 Average Reward: -117.33\n",
            "Episode 4100 Average Reward: -115.47\n",
            "Episode 4200 Average Reward: -115.16\n",
            "Episode 4300 Average Reward: -112.23\n",
            "Episode 4400 Average Reward: -119.29\n",
            "Episode 4500 Average Reward: -110.64\n",
            "Episode 4600 Average Reward: -114.88\n",
            "Episode 4700 Average Reward: -112.83\n",
            "Episode 4800 Average Reward: -114.13\n",
            "Episode 4900 Average Reward: -117.59\n"
          ]
        },
        {
          "output_type": "stream",
          "name": "stderr",
          "text": [
            "100%|██████████| 2/2 [25:19<00:00, 759.51s/it]"
          ]
        },
        {
          "output_type": "stream",
          "name": "stdout",
          "text": [
            "Episode 5000 Average Reward: -113.67\n"
          ]
        },
        {
          "output_type": "stream",
          "name": "stderr",
          "text": [
            "\n"
          ]
        }
      ]
    },
    {
      "cell_type": "markdown",
      "source": [
        "#### SARSA"
      ],
      "metadata": {
        "id": "DJlpZLNvFIwH"
      }
    },
    {
      "cell_type": "code",
      "source": [
        "np.random.seed(42)\n",
        "rewards = []\n",
        "for i in tqdm(range(2)):\n",
        "    env = gym.make('MountainCar-v0')\n",
        "    env.reset()\n",
        "\n",
        "    tile_coding = TileCoding(np.array([14, 14]), env, 7) \n",
        "    \n",
        "    sarsa = SARSA(env, num_episodes = 5000, epsilon = 0.8, lr = 0.3/tile_coding.num_tiling, discount = 0.99, min_eps = 0.0, coding=tile_coding)\n",
        "    sarsa.run()\n",
        "    rewards.append(sarsa.avg_reward_list)"
      ],
      "metadata": {
        "colab": {
          "base_uri": "https://localhost:8080/"
        },
        "id": "-bcpn7ucfzay",
        "outputId": "716c80ff-6754-44d1-dd38-c555b43d23d4"
      },
      "execution_count": null,
      "outputs": [
        {
          "output_type": "stream",
          "name": "stderr",
          "text": [
            "\r  0%|          | 0/2 [00:00<?, ?it/s]"
          ]
        },
        {
          "output_type": "stream",
          "name": "stdout",
          "text": [
            "Episode 100 Average Reward: -200.0\n",
            "Episode 200 Average Reward: -194.25\n",
            "Episode 300 Average Reward: -178.63\n",
            "Episode 400 Average Reward: -152.33\n",
            "Episode 500 Average Reward: -153.85\n",
            "Episode 600 Average Reward: -142.9\n",
            "Episode 700 Average Reward: -136.1\n",
            "Episode 800 Average Reward: -133.49\n",
            "Episode 900 Average Reward: -142.95\n",
            "Episode 1000 Average Reward: -132.24\n",
            "Episode 1100 Average Reward: -135.11\n",
            "Episode 1200 Average Reward: -131.92\n",
            "Episode 1300 Average Reward: -129.4\n",
            "Episode 1400 Average Reward: -125.03\n",
            "Episode 1500 Average Reward: -130.18\n",
            "Episode 1600 Average Reward: -122.37\n",
            "Episode 1700 Average Reward: -122.68\n",
            "Episode 1800 Average Reward: -120.52\n",
            "Episode 1900 Average Reward: -118.21\n",
            "Episode 2000 Average Reward: -125.97\n",
            "Episode 2100 Average Reward: -121.7\n",
            "Episode 2200 Average Reward: -123.12\n",
            "Episode 2300 Average Reward: -121.95\n",
            "Episode 2400 Average Reward: -117.24\n",
            "Episode 2500 Average Reward: -117.02\n",
            "Episode 2600 Average Reward: -121.5\n",
            "Episode 2700 Average Reward: -115.88\n",
            "Episode 2800 Average Reward: -115.09\n",
            "Episode 2900 Average Reward: -116.03\n",
            "Episode 3000 Average Reward: -117.62\n",
            "Episode 3100 Average Reward: -113.97\n",
            "Episode 3200 Average Reward: -114.86\n",
            "Episode 3300 Average Reward: -114.34\n",
            "Episode 3400 Average Reward: -115.86\n",
            "Episode 3500 Average Reward: -112.83\n",
            "Episode 3600 Average Reward: -119.12\n",
            "Episode 3700 Average Reward: -111.89\n",
            "Episode 3800 Average Reward: -113.73\n",
            "Episode 3900 Average Reward: -114.11\n",
            "Episode 4000 Average Reward: -115.95\n",
            "Episode 4100 Average Reward: -111.27\n",
            "Episode 4200 Average Reward: -116.45\n",
            "Episode 4300 Average Reward: -116.95\n",
            "Episode 4400 Average Reward: -114.34\n",
            "Episode 4500 Average Reward: -112.96\n",
            "Episode 4600 Average Reward: -115.72\n",
            "Episode 4700 Average Reward: -112.66\n",
            "Episode 4800 Average Reward: -112.0\n",
            "Episode 4900 Average Reward: -110.28\n"
          ]
        },
        {
          "output_type": "stream",
          "name": "stderr",
          "text": [
            "\r 50%|█████     | 1/2 [13:58<13:58, 838.57s/it]"
          ]
        },
        {
          "output_type": "stream",
          "name": "stdout",
          "text": [
            "Episode 5000 Average Reward: -113.07\n",
            "Episode 100 Average Reward: -200.0\n",
            "Episode 200 Average Reward: -196.03\n",
            "Episode 300 Average Reward: -175.67\n",
            "Episode 400 Average Reward: -171.53\n",
            "Episode 500 Average Reward: -141.67\n",
            "Episode 600 Average Reward: -141.35\n",
            "Episode 700 Average Reward: -129.55\n",
            "Episode 800 Average Reward: -142.27\n",
            "Episode 900 Average Reward: -139.07\n",
            "Episode 1000 Average Reward: -134.83\n",
            "Episode 1100 Average Reward: -128.21\n",
            "Episode 1200 Average Reward: -129.75\n",
            "Episode 1300 Average Reward: -128.7\n",
            "Episode 1400 Average Reward: -117.91\n",
            "Episode 1500 Average Reward: -122.48\n",
            "Episode 1600 Average Reward: -119.63\n",
            "Episode 1700 Average Reward: -117.73\n",
            "Episode 1800 Average Reward: -125.18\n",
            "Episode 1900 Average Reward: -120.97\n",
            "Episode 2000 Average Reward: -120.68\n",
            "Episode 2100 Average Reward: -114.56\n",
            "Episode 2200 Average Reward: -121.41\n",
            "Episode 2300 Average Reward: -106.72\n",
            "Episode 2400 Average Reward: -116.31\n",
            "Episode 2500 Average Reward: -109.63\n",
            "Episode 2600 Average Reward: -117.19\n",
            "Episode 2700 Average Reward: -111.53\n",
            "Episode 2800 Average Reward: -115.93\n",
            "Episode 2900 Average Reward: -111.77\n",
            "Episode 3000 Average Reward: -112.03\n",
            "Episode 3100 Average Reward: -115.53\n",
            "Episode 3200 Average Reward: -107.61\n",
            "Episode 3300 Average Reward: -110.91\n",
            "Episode 3400 Average Reward: -111.76\n",
            "Episode 3500 Average Reward: -108.06\n",
            "Episode 3600 Average Reward: -113.3\n",
            "Episode 3700 Average Reward: -112.58\n",
            "Episode 3800 Average Reward: -114.53\n",
            "Episode 3900 Average Reward: -107.88\n",
            "Episode 4000 Average Reward: -112.69\n",
            "Episode 4100 Average Reward: -111.7\n",
            "Episode 4200 Average Reward: -108.46\n",
            "Episode 4300 Average Reward: -110.29\n",
            "Episode 4400 Average Reward: -111.85\n",
            "Episode 4500 Average Reward: -110.5\n",
            "Episode 4600 Average Reward: -108.84\n",
            "Episode 4700 Average Reward: -112.41\n",
            "Episode 4800 Average Reward: -109.32\n",
            "Episode 4900 Average Reward: -109.41\n"
          ]
        },
        {
          "output_type": "stream",
          "name": "stderr",
          "text": [
            "100%|██████████| 2/2 [27:50<00:00, 835.29s/it]"
          ]
        },
        {
          "output_type": "stream",
          "name": "stdout",
          "text": [
            "Episode 5000 Average Reward: -113.11\n"
          ]
        },
        {
          "output_type": "stream",
          "name": "stderr",
          "text": [
            "\n"
          ]
        }
      ]
    },
    {
      "cell_type": "code",
      "source": [
        "rewards_qlearn = pickle.load(open('Mountaincar_tile_qlearn.sav', 'rb'))\n",
        "rewards_sarsa = pickle.load(open('Mountaincar_tile_sarsa.sav', 'rb'))\n",
        "\n",
        "rewards_qlearn = np.array(rewards_qlearn)\n",
        "rewards_sarsa = np.array(rewards_sarsa)\n",
        "plt.plot(100*(np.arange(len(rewards_qlearn[0])) + 1), rewards_qlearn.mean(axis=0), label='Q-Learning')\n",
        "plt.plot(100*(np.arange(len(rewards_sarsa[0])) + 1), rewards_sarsa.mean(axis=0), label='SARSA')\n",
        "plt.xlabel('Episodes')\n",
        "plt.ylabel('Average Reward')\n",
        "plt.title('Average Reward vs Episodes')\n",
        "plt.legend()\n",
        "plt.savefig('Mountaincar_tile.png')\n",
        "plt.show()"
      ],
      "metadata": {
        "colab": {
          "base_uri": "https://localhost:8080/",
          "height": 295
        },
        "id": "qF8QjhbHC4oh",
        "outputId": "31cfcbda-120f-4b2a-ac86-3843e03cf1e2"
      },
      "execution_count": null,
      "outputs": [
        {
          "output_type": "display_data",
          "data": {
            "text/plain": [
              "<Figure size 432x288 with 1 Axes>"
            ],
            "image/png": "[encoded data removed]"
          },
          "metadata": {
            "needs_background": "light"
          }
        }
      ]
    },
    {
      "cell_type": "markdown",
      "source": [
        "### Radial Basis Function Coding"
      ],
      "metadata": {
        "id": "pNi3Y1jdFWfA"
      }
    },
    {
      "cell_type": "code",
      "source": [
        "class RadialBasisCoding:\n",
        "    def __init__(self, num_centers_per_dim, env):\n",
        "        self.num_centers_per_dim = num_centers_per_dim\n",
        "        self.max_val = env.observation_space.high\n",
        "        self.min_val = env.observation_space.low\n",
        "        \n",
        "        self.num_actions = env.action_space.n\n",
        "\n",
        "        mult = [list(range(self.num_centers_per_dim))]*self.num_centers_per_dim\n",
        "        mult = np.expand_dims(mult, axis=-1)\n",
        "        mult = np.concatenate([mult, mult.transpose(1, 0, -1)], axis=-1)\n",
        "\n",
        "        self.width = (self.max_val - self.min_val)/self.num_centers_per_dim\n",
        "\n",
        "        self.centers = (self.min_val + mult*self.width)\n",
        "        self.centers = self.centers.reshape(-1, 2)\n",
        "        self.centers = np.array([self.centers]*self.num_actions)\n",
        "        self.centers = self.centers.reshape(-1, 2)\n",
        "        ind = np.lexsort([self.centers[:, i] for i in range(self.centers.shape[-1])])\n",
        "        self.centers = self.centers[ind]\n",
        "\n",
        "        self.width /= 2\n",
        "        self.width = np.mean(self.width, keepdims=True)\n",
        "        self.width = self.width**2\n",
        "\n",
        "        self.vect_len = self.centers.shape[0]\n",
        "\n",
        "    def get_features(self, state):\n",
        "        norm = np.linalg.norm(state - self.centers, axis=-1, keepdims=True)\n",
        "        return np.exp(-norm/(2*self.width))\n",
        "\n",
        "    def get_vector(self, state_features, action=None, normalize=True):\n",
        "        one_hot_action = np.zeros((self.num_actions, 1))\n",
        "        one_hot_action[action] = 1\n",
        "\n",
        "        vect = np.array([one_hot_action]*self.num_centers_per_dim**self.min_val.shape[0])\n",
        "        vect = vect.reshape(-1, 1)\n",
        "        vect = state_features*vect\n",
        "\n",
        "        if normalize:\n",
        "            vect /= np.linalg.norm(vect)\n",
        "\n",
        "        return vect"
      ],
      "metadata": {
        "id": "PMxAvcAqSyQl"
      },
      "execution_count": null,
      "outputs": []
    },
    {
      "cell_type": "markdown",
      "source": [
        "#### Q-Learning"
      ],
      "metadata": {
        "id": "GG-y_pLJH5wC"
      }
    },
    {
      "cell_type": "code",
      "source": [
        "# np.random.seed(42)\n",
        "rewards = []\n",
        "for i in tqdm(range(1)):\n",
        "    env = gym.make('MountainCar-v0')\n",
        "    env.reset()\n",
        " \n",
        "    radial_basis = RadialBasisCoding(22, env)\n",
        "    \n",
        "    q_learning = QLearning(env, num_episodes = 2000, epsilon = 0.8, lr = 0.05, discount = 0.99, min_eps = 0.0, coding=radial_basis)\n",
        "    q_learning.run()\n",
        "    rewards.append(q_learning.avg_reward_list)"
      ],
      "metadata": {
        "colab": {
          "base_uri": "https://localhost:8080/"
        },
        "id": "4qw7IlJy_HDH",
        "outputId": "1e8bd03f-28e6-41da-c9b2-20c141ecc19e"
      },
      "execution_count": null,
      "outputs": [
        {
          "output_type": "stream",
          "name": "stderr",
          "text": [
            "\r  0%|          | 0/1 [00:00<?, ?it/s]"
          ]
        },
        {
          "output_type": "stream",
          "name": "stdout",
          "text": [
            "Episode 100 Average Reward: -200.0\n",
            "Episode 200 Average Reward: -200.0\n",
            "Episode 300 Average Reward: -200.0\n",
            "Episode 400 Average Reward: -199.09\n",
            "Episode 500 Average Reward: -198.98\n",
            "Episode 600 Average Reward: -184.34\n",
            "Episode 700 Average Reward: -178.11\n",
            "Episode 800 Average Reward: -181.85\n",
            "Episode 900 Average Reward: -172.95\n",
            "Episode 1000 Average Reward: -153.04\n",
            "Episode 1100 Average Reward: -166.09\n",
            "Episode 1200 Average Reward: -138.69\n",
            "Episode 1300 Average Reward: -143.92\n",
            "Episode 1400 Average Reward: -137.71\n",
            "Episode 1500 Average Reward: -130.31\n",
            "Episode 1600 Average Reward: -126.14\n",
            "Episode 1700 Average Reward: -135.71\n",
            "Episode 1800 Average Reward: -135.14\n",
            "Episode 1900 Average Reward: -144.22\n",
            "Episode 2000 Average Reward: -141.49\n",
            "Episode 2100 Average Reward: -126.83\n",
            "Episode 2200 Average Reward: -148.4\n",
            "Episode 2300 Average Reward: -173.39\n",
            "Episode 2400 Average Reward: -176.42\n",
            "Episode 2500 Average Reward: -168.98\n",
            "Episode 2600 Average Reward: -170.07\n",
            "Episode 2700 Average Reward: -170.22\n",
            "Episode 2800 Average Reward: -190.49\n",
            "Episode 2900 Average Reward: -191.88\n",
            "Episode 3000 Average Reward: -192.19\n",
            "Episode 3100 Average Reward: -186.08\n",
            "Episode 3200 Average Reward: -186.61\n",
            "Episode 3300 Average Reward: -188.23\n",
            "Episode 3400 Average Reward: -183.96\n",
            "Episode 3500 Average Reward: -180.33\n",
            "Episode 3600 Average Reward: -182.89\n",
            "Episode 3700 Average Reward: -179.13\n",
            "Episode 3800 Average Reward: -179.97\n",
            "Episode 3900 Average Reward: -179.91\n",
            "Episode 4000 Average Reward: -177.32\n",
            "Episode 4100 Average Reward: -178.35\n",
            "Episode 4200 Average Reward: -178.87\n",
            "Episode 4300 Average Reward: -186.26\n",
            "Episode 4400 Average Reward: -189.86\n",
            "Episode 4500 Average Reward: -194.38\n",
            "Episode 4600 Average Reward: -188.43\n",
            "Episode 4700 Average Reward: -188.4\n",
            "Episode 4800 Average Reward: -192.24\n",
            "Episode 4900 Average Reward: -195.58\n"
          ]
        },
        {
          "output_type": "stream",
          "name": "stderr",
          "text": [
            "100%|██████████| 1/1 [25:11<00:00, 1511.87s/it]"
          ]
        },
        {
          "output_type": "stream",
          "name": "stdout",
          "text": [
            "Episode 5000 Average Reward: -199.81\n"
          ]
        },
        {
          "output_type": "stream",
          "name": "stderr",
          "text": [
            "\n"
          ]
        }
      ]
    },
    {
      "cell_type": "markdown",
      "source": [
        "#### SARSA"
      ],
      "metadata": {
        "id": "RDk5m98-H8ep"
      }
    },
    {
      "cell_type": "code",
      "source": [
        "np.random.seed(42)\n",
        "rewards = []\n",
        "for i in tqdm(range(2)):\n",
        "    env = gym.make('MountainCar-v0')\n",
        "    env.reset()\n",
        "\n",
        "    radial_basis = RadialBasisCoding(22, env)\n",
        "    \n",
        "    sarsa = SARSA(env, num_episodes = 2000, epsilon = 0.8, lr = 0.05, discount = 0.99, min_eps = 0.0, coding=radial_basis)\n",
        "    sarsa.run()\n",
        "    rewards.append(sarsa.avg_reward_list)"
      ],
      "metadata": {
        "colab": {
          "base_uri": "https://localhost:8080/"
        },
        "id": "5xqPWnizFpSt",
        "outputId": "4c3ef78c-3bfe-4863-a1d5-c5e58f911a40"
      },
      "execution_count": null,
      "outputs": [
        {
          "output_type": "stream",
          "name": "stderr",
          "text": [
            "\r  0%|          | 0/2 [00:00<?, ?it/s]"
          ]
        },
        {
          "output_type": "stream",
          "name": "stdout",
          "text": [
            "Episode 100 Average Reward: -200.0\n",
            "Episode 200 Average Reward: -200.0\n",
            "Episode 300 Average Reward: -199.42\n",
            "Episode 400 Average Reward: -199.45\n",
            "Episode 500 Average Reward: -197.48\n",
            "Episode 600 Average Reward: -190.27\n",
            "Episode 700 Average Reward: -187.41\n",
            "Episode 800 Average Reward: -178.76\n",
            "Episode 900 Average Reward: -179.63\n",
            "Episode 1000 Average Reward: -168.15\n",
            "Episode 1100 Average Reward: -188.43\n",
            "Episode 1200 Average Reward: -176.86\n",
            "Episode 1300 Average Reward: -176.01\n",
            "Episode 1400 Average Reward: -182.68\n",
            "Episode 1500 Average Reward: -186.66\n",
            "Episode 1600 Average Reward: -196.14\n",
            "Episode 1700 Average Reward: -199.07\n",
            "Episode 1800 Average Reward: -198.18\n",
            "Episode 1900 Average Reward: -196.28\n",
            "Episode 2000 Average Reward: -193.6\n",
            "Episode 2100 Average Reward: -192.16\n",
            "Episode 2200 Average Reward: -189.79\n",
            "Episode 2300 Average Reward: -188.46\n",
            "Episode 2400 Average Reward: -184.29\n",
            "Episode 2500 Average Reward: -181.55\n",
            "Episode 2600 Average Reward: -180.96\n",
            "Episode 2700 Average Reward: -186.16\n",
            "Episode 2800 Average Reward: -187.55\n",
            "Episode 2900 Average Reward: -189.13\n",
            "Episode 3000 Average Reward: -180.94\n",
            "Episode 3100 Average Reward: -182.64\n",
            "Episode 3200 Average Reward: -187.43\n",
            "Episode 3300 Average Reward: -187.1\n",
            "Episode 3400 Average Reward: -188.89\n",
            "Episode 3500 Average Reward: -175.22\n",
            "Episode 3600 Average Reward: -185.22\n",
            "Episode 3700 Average Reward: -189.13\n",
            "Episode 3800 Average Reward: -191.87\n",
            "Episode 3900 Average Reward: -183.8\n",
            "Episode 4000 Average Reward: -187.13\n",
            "Episode 4100 Average Reward: -190.58\n",
            "Episode 4200 Average Reward: -193.18\n",
            "Episode 4300 Average Reward: -193.07\n",
            "Episode 4400 Average Reward: -193.92\n",
            "Episode 4500 Average Reward: -164.63\n",
            "Episode 4600 Average Reward: -150.51\n",
            "Episode 4700 Average Reward: -149.62\n",
            "Episode 4800 Average Reward: -165.25\n",
            "Episode 4900 Average Reward: -151.27\n"
          ]
        },
        {
          "output_type": "stream",
          "name": "stderr",
          "text": [
            "\r 50%|█████     | 1/2 [28:15<28:15, 1695.29s/it]"
          ]
        },
        {
          "output_type": "stream",
          "name": "stdout",
          "text": [
            "Episode 5000 Average Reward: -161.36\n",
            "Episode 100 Average Reward: -200.0\n",
            "Episode 200 Average Reward: -200.0\n",
            "Episode 300 Average Reward: -199.55\n",
            "Episode 400 Average Reward: -197.32\n",
            "Episode 500 Average Reward: -197.67\n",
            "Episode 600 Average Reward: -190.16\n",
            "Episode 700 Average Reward: -195.79\n",
            "Episode 800 Average Reward: -188.42\n",
            "Episode 900 Average Reward: -188.55\n",
            "Episode 1000 Average Reward: -164.25\n",
            "Episode 1100 Average Reward: -155.26\n",
            "Episode 1200 Average Reward: -148.73\n",
            "Episode 1300 Average Reward: -154.23\n",
            "Episode 1400 Average Reward: -170.73\n",
            "Episode 1500 Average Reward: -159.43\n",
            "Episode 1600 Average Reward: -164.97\n",
            "Episode 1700 Average Reward: -175.75\n",
            "Episode 1800 Average Reward: -171.89\n",
            "Episode 1900 Average Reward: -165.58\n",
            "Episode 2000 Average Reward: -157.66\n",
            "Episode 2100 Average Reward: -160.63\n",
            "Episode 2200 Average Reward: -158.62\n",
            "Episode 2300 Average Reward: -163.95\n",
            "Episode 2400 Average Reward: -166.05\n",
            "Episode 2500 Average Reward: -154.27\n",
            "Episode 2600 Average Reward: -158.15\n",
            "Episode 2700 Average Reward: -182.64\n",
            "Episode 2800 Average Reward: -186.19\n",
            "Episode 2900 Average Reward: -169.0\n",
            "Episode 3000 Average Reward: -177.6\n",
            "Episode 3100 Average Reward: -159.04\n",
            "Episode 3200 Average Reward: -176.23\n",
            "Episode 3300 Average Reward: -164.8\n",
            "Episode 3400 Average Reward: -162.88\n",
            "Episode 3500 Average Reward: -177.78\n",
            "Episode 3600 Average Reward: -177.94\n",
            "Episode 3700 Average Reward: -177.87\n",
            "Episode 3800 Average Reward: -174.93\n",
            "Episode 3900 Average Reward: -195.45\n",
            "Episode 4000 Average Reward: -193.68\n",
            "Episode 4100 Average Reward: -184.55\n",
            "Episode 4200 Average Reward: -192.31\n",
            "Episode 4300 Average Reward: -193.01\n",
            "Episode 4400 Average Reward: -190.74\n",
            "Episode 4500 Average Reward: -195.97\n",
            "Episode 4600 Average Reward: -196.92\n",
            "Episode 4700 Average Reward: -186.05\n",
            "Episode 4800 Average Reward: -192.53\n",
            "Episode 4900 Average Reward: -197.33\n"
          ]
        },
        {
          "output_type": "stream",
          "name": "stderr",
          "text": [
            "100%|██████████| 2/2 [55:34<00:00, 1667.05s/it]"
          ]
        },
        {
          "output_type": "stream",
          "name": "stdout",
          "text": [
            "Episode 5000 Average Reward: -193.38\n"
          ]
        },
        {
          "output_type": "stream",
          "name": "stderr",
          "text": [
            "\n"
          ]
        }
      ]
    },
    {
      "cell_type": "code",
      "source": [
        "rewards_qlearn = pickle.load(open('Mountaincar_radial_qlearn1.sav', 'rb'))\n",
        "rewards_qlearn2 = pickle.load(open('Mountaincar_radial_qlearn2.sav', 'rb'))\n",
        "rewards_sarsa = pickle.load(open('Mountaincar_radial_sarsa.sav', 'rb'))\n",
        "\n",
        "rewards_qlearn.append(rewards_qlearn2[0])\n",
        "\n",
        "rewards_qlearn = np.array(rewards_qlearn)\n",
        "rewards_sarsa = np.array(rewards_sarsa)\n",
        "plt.plot(100*(np.arange(len(rewards_qlearn[0])) + 1), rewards_qlearn.mean(axis=0), label='Q-Learning')\n",
        "plt.plot(100*(np.arange(len(rewards_sarsa[0])) + 1), rewards_sarsa.mean(axis=0), label='SARSA')\n",
        "plt.xlabel('Episodes')\n",
        "plt.ylabel('Average Reward')\n",
        "plt.title('Average Reward vs Episodes')\n",
        "plt.legend()\n",
        "plt.savefig('Mountaincar_radial.png')\n",
        "plt.show()"
      ],
      "metadata": {
        "colab": {
          "base_uri": "https://localhost:8080/",
          "height": 295
        },
        "outputId": "4d070b8f-f703-4425-a304-223fe161fcc6",
        "id": "aiRRWEvTHtuT"
      },
      "execution_count": null,
      "outputs": [
        {
          "output_type": "display_data",
          "data": {
            "text/plain": [
              "<Figure size 432x288 with 1 Axes>"
            ],
            "image/png": "[encoded data removed]"
          },
          "metadata": {
            "needs_background": "light"
          }
        }
      ]
    },
    {
      "cell_type": "markdown",
      "source": [
        "## CartPole"
      ],
      "metadata": {
        "id": "Is66pT_jIECJ"
      }
    },
    {
      "cell_type": "markdown",
      "source": [
        "### Tile Coding"
      ],
      "metadata": {
        "id": "ujI-__6CIF1p"
      }
    },
    {
      "cell_type": "code",
      "source": [
        "class TileCoding:\n",
        "    def __init__(self, num_tile_per_dim, env, num_tiling):\n",
        "        self.num_tile_per_dim = num_tile_per_dim\n",
        "\n",
        "        self.max_val = [3, 3.5, 0.25, 3.5]\n",
        "        self.min_val = [-3, -3.5, -0.25, -3.5]\n",
        "\n",
        "        self.num_actions = env.action_space.n\n",
        "        self.num_tiling = num_tiling\n",
        "\n",
        "        self.tile_width = np.array([\n",
        "            (self.max_val[i] - self.min_val[i])/self.num_tile_per_dim[i] \n",
        "            for i in range(num_tile_per_dim.shape[0])\n",
        "        ])\n",
        "\n",
        "        self.displ_vect = np.array([2*i + 1 for i in range(num_tile_per_dim.shape[0])])\n",
        "\n",
        "        self.rate = self.displ_vect*(self.tile_width/self.num_tiling)\n",
        "\n",
        "        self.num_tiles_per_tiling = np.prod(self.num_tile_per_dim)\n",
        "\n",
        "        self.multiplier = [1]\n",
        "        for i, num_tile in enumerate(self.num_tile_per_dim[-2::-1]):\n",
        "            self.multiplier.append(self.multiplier[i]*num_tile)\n",
        "\n",
        "        self.vect_len = self.num_tiles_per_tiling*self.num_tiling*self.num_actions\n",
        "\n",
        "    def get_features(self, state):\n",
        "        features = [(state - self.rate*i - self.min_val)/self.tile_width for i in range(self.num_tiling)]\n",
        "\n",
        "        features = np.floor(features)\n",
        "        features = features.astype(np.int32)\n",
        "\n",
        "        return features\n",
        "\n",
        "    def get_vector(self, features, action=None, normalize=False):  \n",
        "        if action is not None:\n",
        "            one_hot_vector = np.zeros((\n",
        "                self.num_tiles_per_tiling*self.num_tiling*self.num_actions, 1))\n",
        "            \n",
        "            for i in range(self.num_tiling):\n",
        "                if np.all(features[i] >= 0):\n",
        "                    one_hot_vector[self.num_tiles_per_tiling * self.num_actions * i + \n",
        "                        np.sum(features[i]*list(reversed(self.multiplier))) * self.num_actions + action] = 1\n",
        "        else:\n",
        "            one_hot_vector = np.zeros((self.num_tiles_per_tiling*self.num_tiling, 1))\n",
        "            for i in range(self.num_tiling):\n",
        "                if np.all(features[i] >= 0):\n",
        "                    one_hot_vector[self.num_tiles_per_tiling * i + \n",
        "                        np.sum(features[i]*list(reversed(self.multiplier)))] = 1\n",
        "        \n",
        "        if normalize:\n",
        "            one_hot_vector /= np.linalg.norm(one_hot_vector)\n",
        "\n",
        "        return one_hot_vector"
      ],
      "metadata": {
        "id": "AMrCGAMEBNnY"
      },
      "execution_count": null,
      "outputs": []
    },
    {
      "cell_type": "markdown",
      "source": [
        "#### Q-Learning"
      ],
      "metadata": {
        "id": "pNKE9oF0IXJx"
      }
    },
    {
      "cell_type": "code",
      "source": [
        "np.random.seed(42)\n",
        "rewards = []\n",
        "for i in tqdm(range(1)):\n",
        "    env = gym.make('CartPole-v0')\n",
        "    env.reset()\n",
        "\n",
        "    tile_coding = TileCoding(np.array([22, 22, 22, 22]), env, 4) \n",
        "    \n",
        "    q_learning = QLearning(env, num_episodes = 1000, epsilon = 0.8, lr = 0.1/tile_coding.num_tiling, discount = 0.99, min_eps = 0.0, coding=tile_coding)\n",
        "    q_learning.run()\n",
        "    rewards.append(q_learning.avg_reward_list)"
      ],
      "metadata": {
        "colab": {
          "base_uri": "https://localhost:8080/"
        },
        "id": "1eyZa3CMkGDF",
        "outputId": "08242e0c-8abe-4fe2-c541-d9f9f0a0fbcf"
      },
      "execution_count": null,
      "outputs": [
        {
          "output_type": "stream",
          "name": "stderr",
          "text": [
            "\r  0%|          | 0/1 [00:00<?, ?it/s]"
          ]
        },
        {
          "output_type": "stream",
          "name": "stdout",
          "text": [
            "Episode 100 Average Reward: 26.02\n",
            "Episode 200 Average Reward: 53.1\n",
            "Episode 300 Average Reward: 104.64\n",
            "Episode 400 Average Reward: 136.11\n",
            "Episode 500 Average Reward: 166.73\n",
            "Episode 600 Average Reward: 181.27\n",
            "Episode 700 Average Reward: 193.2\n",
            "Episode 800 Average Reward: 197.1\n",
            "Episode 900 Average Reward: 198.38\n"
          ]
        },
        {
          "output_type": "stream",
          "name": "stderr",
          "text": [
            "100%|██████████| 1/1 [2:02:39<00:00, 7359.57s/it]"
          ]
        },
        {
          "output_type": "stream",
          "name": "stdout",
          "text": [
            "Episode 1000 Average Reward: 197.38\n"
          ]
        },
        {
          "output_type": "stream",
          "name": "stderr",
          "text": [
            "\n"
          ]
        }
      ]
    },
    {
      "cell_type": "markdown",
      "source": [
        "#### SARSA"
      ],
      "metadata": {
        "id": "JA-Pj-EHIdo5"
      }
    },
    {
      "cell_type": "code",
      "source": [
        "np.random.seed(42)\n",
        "rewards = []\n",
        "for i in tqdm(range(2)):\n",
        "    env = gym.make('CartPole-v0')\n",
        "    env.reset()\n",
        "\n",
        "    tile_coding = TileCoding(np.array([22, 22, 22, 22]), env, 4) \n",
        "    \n",
        "    sarsa = SARSA(env, num_episodes = 1000, epsilon = 0.8, lr = 0.1/tile_coding.num_tiling, discount = 0.99, min_eps = 0.0, coding=tile_coding)\n",
        "    sarsa.run()\n",
        "    rewards.append(sarsa.avg_reward_list)"
      ],
      "metadata": {
        "colab": {
          "base_uri": "https://localhost:8080/"
        },
        "id": "btwh7ulXgltK",
        "outputId": "a62c6849-8c65-44b3-c1f7-814b8eacddbf"
      },
      "execution_count": null,
      "outputs": [
        {
          "metadata": {
            "tags": null
          },
          "name": "stderr",
          "output_type": "stream",
          "text": [
            "\r  0%|          | 0/2 [00:00<?, ?it/s]"
          ]
        },
        {
          "metadata": {
            "tags": null
          },
          "name": "stdout",
          "output_type": "stream",
          "text": [
            "Episode 100 Average Reward: 22.92\n",
            "Episode 200 Average Reward: 31.8\n",
            "Episode 300 Average Reward: 64.16\n",
            "Episode 400 Average Reward: 86.71\n",
            "Episode 500 Average Reward: 152.48\n",
            "Episode 600 Average Reward: 189.69\n",
            "Episode 700 Average Reward: 192.93\n",
            "Episode 800 Average Reward: 199.06\n",
            "Episode 900 Average Reward: 199.75\n"
          ]
        },
        {
          "metadata": {
            "tags": null
          },
          "name": "stderr",
          "output_type": "stream",
          "text": [
            "\r 50%|█████     | 1/2 [1:27:15<1:27:15, 5235.08s/it]"
          ]
        },
        {
          "output_type": "stream",
          "name": "stdout",
          "text": [
            "Episode 1000 Average Reward: 199.08\n",
            "Episode 100 Average Reward: 21.56\n",
            "Episode 200 Average Reward: 24.0\n",
            "Episode 300 Average Reward: 25.18\n",
            "Episode 400 Average Reward: 45.28\n",
            "Episode 500 Average Reward: 102.63\n",
            "Episode 600 Average Reward: 126.48\n",
            "Episode 700 Average Reward: 140.64\n",
            "Episode 800 Average Reward: 152.3\n",
            "Episode 900 Average Reward: 171.82\n"
          ]
        },
        {
          "output_type": "stream",
          "name": "stderr",
          "text": [
            "100%|██████████| 2/2 [2:30:56<00:00, 4528.33s/it]"
          ]
        },
        {
          "output_type": "stream",
          "name": "stdout",
          "text": [
            "Episode 1000 Average Reward: 181.19\n"
          ]
        },
        {
          "output_type": "stream",
          "name": "stderr",
          "text": [
            "\n"
          ]
        }
      ]
    },
    {
      "cell_type": "code",
      "source": [
        "rewards_qlearn = pickle.load(open('Cartpole_tile_qlearn.sav', 'rb'))\n",
        "rewards_qlearn2 = pickle.load(open('Cartpole_tile_qlearn1.sav', 'rb'))\n",
        "rewards_sarsa = pickle.load(open('Cartpole_tile_sarsa.sav', 'rb'))\n",
        "\n",
        "rewards_qlearn.append(rewards_qlearn2[0])\n",
        "\n",
        "rewards_qlearn = np.array(rewards_qlearn)\n",
        "print(rewards_qlearn.shape)\n",
        "rewards_sarsa = np.array(rewards_sarsa)\n",
        "print(rewards_sarsa.shape)\n",
        "plt.plot(100*(np.arange(len(rewards_qlearn[0])) + 1), rewards_qlearn.mean(axis=0), label='Q-Learning')\n",
        "plt.plot(100*(np.arange(len(rewards_sarsa[0])) + 1), rewards_sarsa.mean(axis=0), label='SARSA')\n",
        "plt.xlabel('Episodes')\n",
        "plt.ylabel('Average Reward')\n",
        "plt.title('Average Reward vs Episodes')\n",
        "plt.legend()\n",
        "plt.savefig('Cartpole_tile.png')\n",
        "plt.show()"
      ],
      "metadata": {
        "colab": {
          "base_uri": "https://localhost:8080/",
          "height": 330
        },
        "outputId": "334d5631-79b6-47c9-9589-0d92ba0d02f9",
        "id": "XtVEWmz1JZpN"
      },
      "execution_count": null,
      "outputs": [
        {
          "output_type": "stream",
          "name": "stdout",
          "text": [
            "(2, 10)\n",
            "(2, 10)\n"
          ]
        },
        {
          "output_type": "display_data",
          "data": {
            "text/plain": [
              "<Figure size 432x288 with 1 Axes>"
            ],
            "image/png": "[encoded data removed]"
          },
          "metadata": {
            "needs_background": "light"
          }
        }
      ]
    },
    {
      "cell_type": "markdown",
      "source": [
        "###Radial Basis Function Coding"
      ],
      "metadata": {
        "id": "OhlEK_w8eDFu"
      }
    },
    {
      "cell_type": "code",
      "source": [
        "class RadialBasisCoding:\n",
        "    def __init__(self, num_centers_per_dim, env):\n",
        "        self.num_centers_per_dim = num_centers_per_dim\n",
        "\n",
        "        self.max_val = np.array([3, 3.5, 0.25, 3.5])\n",
        "        self.min_val = np.array([-3, -3.5, -0.25, -3.5])\n",
        "\n",
        "        self.num_actions = env.action_space.n\n",
        "\n",
        "        self.width = (self.max_val - self.min_val)/self.num_centers_per_dim\n",
        "\n",
        "        centers = []\n",
        "        for i in range(self.num_centers_per_dim):\n",
        "            for j in range(self.num_centers_per_dim):\n",
        "                for k in range(self.num_centers_per_dim):\n",
        "                    for l in range(self.num_centers_per_dim):\n",
        "                        centers.append([\n",
        "                            self.min_val[0] + i*self.width[0],\n",
        "                            self.min_val[1] + j*self.width[1],\n",
        "                            self.min_val[2] + k*self.width[2],\n",
        "                            self.min_val[3] + l*self.width[3]\n",
        "                        ])\n",
        "        self.centers = np.array(centers)\n",
        "        print(self.centers.shape)\n",
        "\n",
        "        self.centers = np.array([self.centers]*self.num_actions)\n",
        "        self.centers = self.centers.reshape(-1, self.centers.shape[-1])\n",
        "        ind = np.lexsort([self.centers[:, i] for i in range(self.centers.shape[-1])])\n",
        "        self.centers = self.centers[ind]\n",
        "\n",
        "        self.width /= 2\n",
        "        self.width = np.mean(self.width, keepdims=True)\n",
        "        self.width = self.width**2\n",
        "\n",
        "        self.vect_len = self.centers.shape[0]\n",
        "\n",
        "\n",
        "    def get_features(self, state):\n",
        "        norm = np.linalg.norm(state - self.centers, axis=-1, keepdims=True)\n",
        "        return np.exp(-norm/(2*self.width))\n",
        "\n",
        "    def get_vector(self, state_features, action=None, normalize=True):\n",
        "        one_hot_action = np.zeros((self.num_actions, 1))\n",
        "        one_hot_action[action] = 1\n",
        "\n",
        "        vect = np.array([one_hot_action]*self.num_centers_per_dim**self.min_val.shape[0])\n",
        "        vect = vect.reshape(-1, 1)\n",
        "        vect = state_features*vect\n",
        "\n",
        "        if normalize:\n",
        "            vect /= np.linalg.norm(vect)\n",
        "\n",
        "        return vect"
      ],
      "metadata": {
        "id": "UTucycHnD50y"
      },
      "execution_count": null,
      "outputs": []
    },
    {
      "cell_type": "markdown",
      "source": [
        "#### Q-Learning"
      ],
      "metadata": {
        "id": "6hg018nxeKXu"
      }
    },
    {
      "cell_type": "code",
      "source": [
        "np.random.seed(42)\n",
        "rewards = []\n",
        "for i in tqdm(range(2)):\n",
        "    env = gym.make('CartPole-v0')\n",
        "    env.reset()\n",
        " \n",
        "    radial_basis = RadialBasisCoding(15, env)\n",
        "    \n",
        "    q_learning = QLearning(env, num_episodes = 1000, epsilon = 0.8, lr = 0.1, discount = 0.99, min_eps = 0.0, coding=radial_basis)\n",
        "    q_learning.run()\n",
        "    rewards.append(q_learning.avg_reward_list)"
      ],
      "metadata": {
        "colab": {
          "base_uri": "https://localhost:8080/",
          "height": 588
        },
        "id": "yoMSBm7QO-UJ",
        "outputId": "954a0541-6277-40e2-fda6-25b5b9d2c9c5"
      },
      "execution_count": null,
      "outputs": [
        {
          "output_type": "stream",
          "name": "stderr",
          "text": [
            "\r  0%|          | 0/2 [00:00<?, ?it/s]"
          ]
        },
        {
          "output_type": "stream",
          "name": "stdout",
          "text": [
            "(50625, 4)\n",
            "Total Episodic Reward: 18.0Episode 100 Average Reward: 23.15\n",
            "Total Episodic Reward: 12.0Episode 200 Average Reward: 20.27\n",
            "Total Episodic Reward: 43.0Episode 300 Average Reward: 42.49\n",
            "Total Episodic Reward: 106.0Episode 400 Average Reward: 53.26\n",
            "Total Episodic Reward: 200.0Episode 500 Average Reward: 129.98\n",
            "Total Episodic Reward: 86.0Episode 600 Average Reward: 130.48\n",
            "Total Episodic Reward: 78.0Episode 700 Average Reward: 147.99\n",
            "Total Episodic Reward: 200.0Episode 800 Average Reward: 145.06\n",
            "Total Episodic Reward: 200.0Episode 900 Average Reward: 151.14\n",
            "Total Episodic Reward: 200.0"
          ]
        },
        {
          "output_type": "stream",
          "name": "stderr",
          "text": [
            "\r 50%|█████     | 1/2 [5:51:49<5:51:49, 21109.36s/it]"
          ]
        },
        {
          "output_type": "stream",
          "name": "stdout",
          "text": [
            "\rTotal Episodic Reward: 103.0Episode 1000 Average Reward: 151.39\n",
            "(50625, 4)\n",
            "Total Episodic Reward: 28.0"
          ]
        },
        {
          "output_type": "stream",
          "name": "stderr",
          "text": [
            "\r 50%|█████     | 1/2 [5:54:56<5:54:56, 21296.06s/it]\n"
          ]
        },
        {
          "output_type": "error",
          "ename": "KeyboardInterrupt",
          "evalue": "ignored",
          "traceback": [
            "\u001b[0;31m---------------------------------------------------------------------------\u001b[0m",
            "\u001b[0;31mKeyboardInterrupt\u001b[0m                         Traceback (most recent call last)",
            "\u001b[0;32m<ipython-input-28-fab230c9c95a>\u001b[0m in \u001b[0;36m<module>\u001b[0;34m()\u001b[0m\n\u001b[1;32m     14\u001b[0m \u001b[0;34m\u001b[0m\u001b[0m\n\u001b[1;32m     15\u001b[0m     \u001b[0mq_learning\u001b[0m \u001b[0;34m=\u001b[0m \u001b[0mQLearning\u001b[0m\u001b[0;34m(\u001b[0m\u001b[0menv\u001b[0m\u001b[0;34m,\u001b[0m \u001b[0mnum_episodes\u001b[0m \u001b[0;34m=\u001b[0m \u001b[0;36m1000\u001b[0m\u001b[0;34m,\u001b[0m \u001b[0mepsilon\u001b[0m \u001b[0;34m=\u001b[0m \u001b[0;36m0.8\u001b[0m\u001b[0;34m,\u001b[0m \u001b[0mlr\u001b[0m \u001b[0;34m=\u001b[0m \u001b[0;36m0.1\u001b[0m\u001b[0;34m,\u001b[0m \u001b[0mdiscount\u001b[0m \u001b[0;34m=\u001b[0m \u001b[0;36m0.99\u001b[0m\u001b[0;34m,\u001b[0m \u001b[0mmin_eps\u001b[0m \u001b[0;34m=\u001b[0m \u001b[0;36m0.0\u001b[0m\u001b[0;34m,\u001b[0m \u001b[0mcoding\u001b[0m\u001b[0;34m=\u001b[0m\u001b[0mradial_basis\u001b[0m\u001b[0;34m)\u001b[0m\u001b[0;34m\u001b[0m\u001b[0;34m\u001b[0m\u001b[0m\n\u001b[0;32m---> 16\u001b[0;31m     \u001b[0mq_learning\u001b[0m\u001b[0;34m.\u001b[0m\u001b[0mrun\u001b[0m\u001b[0;34m(\u001b[0m\u001b[0;34m)\u001b[0m\u001b[0;34m\u001b[0m\u001b[0;34m\u001b[0m\u001b[0m\n\u001b[0m\u001b[1;32m     17\u001b[0m     \u001b[0mrewards\u001b[0m\u001b[0;34m.\u001b[0m\u001b[0mappend\u001b[0m\u001b[0;34m(\u001b[0m\u001b[0mq_learning\u001b[0m\u001b[0;34m.\u001b[0m\u001b[0mavg_reward_list\u001b[0m\u001b[0;34m)\u001b[0m\u001b[0;34m\u001b[0m\u001b[0;34m\u001b[0m\u001b[0m\n",
            "\u001b[0;32m<ipython-input-27-a91943234e51>\u001b[0m in \u001b[0;36mrun\u001b[0;34m(self, verbose)\u001b[0m\n\u001b[1;32m     74\u001b[0m                 \u001b[0;31m# Update current estimates\u001b[0m\u001b[0;34m\u001b[0m\u001b[0;34m\u001b[0m\u001b[0;34m\u001b[0m\u001b[0m\n\u001b[1;32m     75\u001b[0m                 \u001b[0;32melse\u001b[0m\u001b[0;34m:\u001b[0m\u001b[0;34m\u001b[0m\u001b[0;34m\u001b[0m\u001b[0m\n\u001b[0;32m---> 76\u001b[0;31m                     \u001b[0mx\u001b[0m \u001b[0;34m=\u001b[0m \u001b[0mself\u001b[0m\u001b[0;34m.\u001b[0m\u001b[0mcoding\u001b[0m\u001b[0;34m.\u001b[0m\u001b[0mget_vector\u001b[0m\u001b[0;34m(\u001b[0m\u001b[0mstate_feat\u001b[0m\u001b[0;34m,\u001b[0m \u001b[0maction\u001b[0m\u001b[0;34m)\u001b[0m\u001b[0;34m\u001b[0m\u001b[0;34m\u001b[0m\u001b[0m\n\u001b[0m\u001b[1;32m     77\u001b[0m                     \u001b[0;31m# print()\u001b[0m\u001b[0;34m\u001b[0m\u001b[0;34m\u001b[0m\u001b[0;34m\u001b[0m\u001b[0m\n\u001b[1;32m     78\u001b[0m                     error = (reward + \n",
            "\u001b[0;32m<ipython-input-26-948b23048105>\u001b[0m in \u001b[0;36mget_vector\u001b[0;34m(self, state_features, action, normalize)\u001b[0m\n\u001b[1;32m     82\u001b[0m         \u001b[0mone_hot_action\u001b[0m\u001b[0;34m[\u001b[0m\u001b[0maction\u001b[0m\u001b[0;34m]\u001b[0m \u001b[0;34m=\u001b[0m \u001b[0;36m1\u001b[0m\u001b[0;34m\u001b[0m\u001b[0;34m\u001b[0m\u001b[0m\n\u001b[1;32m     83\u001b[0m \u001b[0;34m\u001b[0m\u001b[0m\n\u001b[0;32m---> 84\u001b[0;31m         \u001b[0mvect\u001b[0m \u001b[0;34m=\u001b[0m \u001b[0mnp\u001b[0m\u001b[0;34m.\u001b[0m\u001b[0marray\u001b[0m\u001b[0;34m(\u001b[0m\u001b[0;34m[\u001b[0m\u001b[0mone_hot_action\u001b[0m\u001b[0;34m]\u001b[0m\u001b[0;34m*\u001b[0m\u001b[0mself\u001b[0m\u001b[0;34m.\u001b[0m\u001b[0mnum_centers_per_dim\u001b[0m\u001b[0;34m**\u001b[0m\u001b[0mself\u001b[0m\u001b[0;34m.\u001b[0m\u001b[0mmin_val\u001b[0m\u001b[0;34m.\u001b[0m\u001b[0mshape\u001b[0m\u001b[0;34m[\u001b[0m\u001b[0;36m0\u001b[0m\u001b[0;34m]\u001b[0m\u001b[0;34m)\u001b[0m\u001b[0;34m\u001b[0m\u001b[0;34m\u001b[0m\u001b[0m\n\u001b[0m\u001b[1;32m     85\u001b[0m         \u001b[0mvect\u001b[0m \u001b[0;34m=\u001b[0m \u001b[0mvect\u001b[0m\u001b[0;34m.\u001b[0m\u001b[0mreshape\u001b[0m\u001b[0;34m(\u001b[0m\u001b[0;34m-\u001b[0m\u001b[0;36m1\u001b[0m\u001b[0;34m,\u001b[0m \u001b[0;36m1\u001b[0m\u001b[0;34m)\u001b[0m\u001b[0;34m\u001b[0m\u001b[0;34m\u001b[0m\u001b[0m\n\u001b[1;32m     86\u001b[0m         \u001b[0mvect\u001b[0m \u001b[0;34m=\u001b[0m \u001b[0mstate_features\u001b[0m\u001b[0;34m*\u001b[0m\u001b[0mvect\u001b[0m\u001b[0;34m\u001b[0m\u001b[0;34m\u001b[0m\u001b[0m\n",
            "\u001b[0;31mKeyboardInterrupt\u001b[0m: "
          ]
        }
      ]
    },
    {
      "cell_type": "markdown",
      "source": [
        "####SARSA"
      ],
      "metadata": {
        "id": "f-Qbnrkt4SMw"
      }
    },
    {
      "cell_type": "code",
      "source": [
        "np.random.seed(42)\n",
        "rewards = []\n",
        "for i in tqdm(range(1)):\n",
        "    env = gym.make('CartPole-v0')\n",
        "    env.reset()\n",
        " \n",
        "    radial_basis = RadialBasisCoding(15, env)\n",
        "\n",
        "    sarsa = SARSA(env, num_episodes = 1000, epsilon = 0.8, lr = 0.1, discount = 0.99, min_eps = 0.0, coding=radial_basis)\n",
        "    sarsa.run()\n",
        "    rewards.append(sarsa.avg_reward_list) "
      ],
      "metadata": {
        "colab": {
          "base_uri": "https://localhost:8080/"
        },
        "id": "HuMqLippjGYR",
        "outputId": "778b2c84-afb9-4c33-fe33-554267ce2fe8"
      },
      "execution_count": null,
      "outputs": [
        {
          "metadata": {
            "tags": null
          },
          "name": "stderr",
          "output_type": "stream",
          "text": [
            "\r  0%|          | 0/1 [00:00<?, ?it/s]"
          ]
        },
        {
          "metadata": {
            "tags": null
          },
          "name": "stdout",
          "output_type": "stream",
          "text": [
            "(50625, 4)\n",
            "Episode 100 Average Reward: 35.42\n",
            "Episode 200 Average Reward: 35.01\n",
            "Episode 300 Average Reward: 35.38\n",
            "Episode 400 Average Reward: 36.48\n",
            "Episode 500 Average Reward: 81.09\n",
            "Episode 600 Average Reward: 85.58\n",
            "Episode 700 Average Reward: 121.45\n",
            "Episode 800 Average Reward: 155.65\n",
            "Episode 900 Average Reward: 150.38\n"
          ]
        },
        {
          "output_type": "stream",
          "name": "stderr",
          "text": [
            "100%|██████████| 1/1 [5:55:11<00:00, 21311.57s/it]"
          ]
        },
        {
          "output_type": "stream",
          "name": "stdout",
          "text": [
            "Episode 1000 Average Reward: 153.55\n"
          ]
        },
        {
          "output_type": "stream",
          "name": "stderr",
          "text": [
            "\n"
          ]
        }
      ]
    },
    {
      "cell_type": "code",
      "source": [
        "rewards_qlearn = pickle.load(open('Cartpole_radial_qlearn.sav', 'rb'))\n",
        "rewards_sarsa = pickle.load(open('Cartpole_radial_sarsa.sav', 'rb'))\n",
        "\n",
        "rewards_qlearn = np.array(rewards_qlearn)\n",
        "print(rewards_qlearn.shape)\n",
        "rewards_sarsa = np.array(rewards_sarsa)\n",
        "print(rewards_sarsa.shape)\n",
        "plt.plot(100*(np.arange(len(rewards_qlearn[0])) + 1), rewards_qlearn.mean(axis=0), label='Q-Learning')\n",
        "plt.plot(100*(np.arange(len(rewards_sarsa[0])) + 1), rewards_sarsa.mean(axis=0), label='SARSA')\n",
        "plt.xlabel('Episodes')\n",
        "plt.ylabel('Average Reward')\n",
        "plt.title('Average Reward vs Episodes')\n",
        "plt.legend()\n",
        "plt.savefig('Cartpole_radial.png')\n",
        "plt.show()"
      ],
      "metadata": {
        "colab": {
          "base_uri": "https://localhost:8080/",
          "height": 330
        },
        "outputId": "d89baa08-5652-4a3e-ff5d-d9cb080449c2",
        "id": "phL7nVU756fa"
      },
      "execution_count": null,
      "outputs": [
        {
          "output_type": "stream",
          "name": "stdout",
          "text": [
            "(1, 10)\n",
            "(1, 10)\n"
          ]
        },
        {
          "output_type": "display_data",
          "data": {
            "text/plain": [
              "<Figure size 432x288 with 1 Axes>"
            ],
            "image/png": "[encoded data removed]"
          },
          "metadata": {
            "needs_background": "light"
          }
        }
      ]
    },
    {
      "cell_type": "markdown",
      "source": [
        "# REINFORCE Algorithm"
      ],
      "metadata": {
        "id": "Ip4ys4CouxTc"
      }
    },
    {
      "cell_type": "code",
      "source": [
        "class Reinforce:\n",
        "    def __init__(self, env, lr, num_episodes, discount, device='cpu'):\n",
        "        self.env = env\n",
        "        self.lr = lr\n",
        "        self.num_episodes = num_episodes\n",
        "        self.discount = discount\n",
        "\n",
        "        state_dim = env.observation_space.shape[0]\n",
        "        n_actions = env.action_space.n\n",
        "\n",
        "        self.policy = Policy(\n",
        "            state_dim = env.observation_space.shape[0],\n",
        "            hidden_units = 16,\n",
        "            action_dim = env.action_space.n,\n",
        "            device = device\n",
        "        ).to(device)\n",
        "\n",
        "        self.optimizer = optim.Adam(self.policy.parameters(), lr=lr)\n",
        "\n",
        "        self.reward_list = []\n",
        "        self.avg_reward_list = []\n",
        "\n",
        "    def run(self, verbose=True):\n",
        "        for i in range(self.num_episodes):\n",
        "            log_probs = []\n",
        "            rewards = []\n",
        "            state = env.reset()\n",
        "            done = False\n",
        "\n",
        "            while not done:\n",
        "                action, log_prob = self.policy.act(state)\n",
        "                state, reward, done, _ = env.step(action)\n",
        "\n",
        "                log_probs.append(log_prob)\n",
        "                rewards.append(reward)\n",
        "\n",
        "            self.reward_list.append(sum(rewards))\n",
        "\n",
        "            discounts = [self.discount**i for i in range(len(rewards)+1)]\n",
        "            R = sum([a*b for a,b in zip(discounts, rewards)])\n",
        "\n",
        "            policy_loss = []\n",
        "            for log_prob in log_probs:\n",
        "                policy_loss.append(-log_prob * R)\n",
        "            policy_loss = torch.cat(policy_loss).sum()\n",
        "\n",
        "            self.optimizer.zero_grad()\n",
        "            policy_loss.backward()\n",
        "            self.optimizer.step()\n",
        "\n",
        "            if (i+1) % 100 == 0:\n",
        "                avg_reward = np.mean(self.reward_list)\n",
        "                self.avg_reward_list.append(avg_reward)\n",
        "                self.reward_list = []\n",
        "            \n",
        "            if (i+1) % 100 == 0 and verbose:    \n",
        "                print('Episode {} Average Reward: {}'.format(i+1, avg_reward))\n",
        "\n",
        "        self.env.close()"
      ],
      "metadata": {
        "id": "BkHiofvb0BrS"
      },
      "execution_count": null,
      "outputs": []
    },
    {
      "cell_type": "code",
      "source": [
        "class ReinforceWithLowVariance:\n",
        "    def __init__(self, env, lr, num_episodes, discount, device='cpu'):\n",
        "        self.env = env\n",
        "        self.lr = lr\n",
        "        self.num_episodes = num_episodes\n",
        "        self.discount = discount\n",
        "\n",
        "        state_dim = env.observation_space.shape[0]\n",
        "        n_actions = env.action_space.n\n",
        "\n",
        "        self.policy = Policy(\n",
        "            state_dim = env.observation_space.shape[0],\n",
        "            hidden_units = 16,\n",
        "            action_dim = env.action_space.n,\n",
        "            device = device\n",
        "        ).to(device)\n",
        "\n",
        "        self.optimizer = optim.Adam(self.policy.parameters(), lr=lr)\n",
        "\n",
        "        self.reward_list = []\n",
        "        self.avg_reward_list = []\n",
        "\n",
        "    def run(self, verbose=True):\n",
        "        for i in range(self.num_episodes):\n",
        "            log_probs = []\n",
        "            rewards = []\n",
        "            state = env.reset()\n",
        "            done = False\n",
        "\n",
        "            while not done:\n",
        "                action, log_prob = self.policy.act(state)\n",
        "                state, reward, done, _ = env.step(action)\n",
        "\n",
        "                log_probs.append(log_prob)\n",
        "                rewards.append(reward)\n",
        "\n",
        "            self.reward_list.append(sum(rewards))\n",
        "\n",
        "            discounts = [self.discount**i for i in range(len(rewards)+1)]\n",
        "            R = sum([a*b for a,b in zip(discounts, rewards)])\n",
        "\n",
        "            # Return Calculation\n",
        "            G = copy.deepcopy(list(rewards))\n",
        "            for j in reversed(range(len(rewards)-1)):\n",
        "                G[j] += self.discount*G[j+1]\n",
        "\n",
        "            policy_loss = []\n",
        "            for log_prob, G_t in zip(log_probs, G):\n",
        "                policy_loss.append(-log_prob * G_t)\n",
        "            policy_loss = torch.cat(policy_loss).sum()\n",
        "\n",
        "            self.optimizer.zero_grad()\n",
        "            policy_loss.backward()\n",
        "            self.optimizer.step()\n",
        "\n",
        "            if (i+1) % 100 == 0:\n",
        "                avg_reward = np.mean(self.reward_list)\n",
        "                self.avg_reward_list.append(avg_reward)\n",
        "                self.reward_list = []\n",
        "            \n",
        "            if (i+1) % 100 == 0 and verbose:    \n",
        "                print('Episode {} Average Reward: {}'.format(i+1, avg_reward))\n",
        "\n",
        "        self.env.close()"
      ],
      "metadata": {
        "id": "RodzZv2u6Ktm"
      },
      "execution_count": null,
      "outputs": []
    },
    {
      "cell_type": "code",
      "source": [
        "class Policy(nn.Module):\n",
        "    def __init__(self, state_dim=2, hidden_units=16, action_dim=3, device='cpu'):\n",
        "        super(Policy, self).__init__()\n",
        "\n",
        "        self.fc1 = nn.Linear(state_dim, hidden_units)\n",
        "        self.fc2 = nn.Linear(hidden_units, action_dim)\n",
        "\n",
        "        self.device = device\n",
        "\n",
        "    def forward(self, x):\n",
        "        x = F.relu(self.fc1(x))\n",
        "        x = self.fc2(x)\n",
        "        return F.softmax(x, dim=1)\n",
        "    \n",
        "    def act(self, state):\n",
        "        state = torch.from_numpy(state).float().unsqueeze(0).to(self.device)\n",
        "        probs = self.forward(state).cpu()\n",
        "        m = torch.distributions.Categorical(probs=probs)\n",
        "        action = m.sample()\n",
        "        return action.item(), m.log_prob(action)"
      ],
      "metadata": {
        "id": "-mvIsnDzanJg"
      },
      "execution_count": null,
      "outputs": []
    },
    {
      "cell_type": "markdown",
      "source": [
        "##Mountain Car"
      ],
      "metadata": {
        "id": "5NQCnPIRdnuO"
      }
    },
    {
      "cell_type": "markdown",
      "source": [
        "### REINFORCE Version 1"
      ],
      "metadata": {
        "id": "aDZ6Iu6tdz5E"
      }
    },
    {
      "cell_type": "code",
      "source": [
        "torch.manual_seed(0) # set random seed\n",
        "device = torch.device(\"cuda:0\" if torch.cuda.is_available() else \"cpu\")\n",
        "\n",
        "rewards = []\n",
        "\n",
        "for i in tqdm(range(1)):\n",
        "    env = gym.make('MountainCar-v0')\n",
        "    # env.seed(0)\n",
        "    env.reset()\n",
        "\n",
        "    reinforce = Reinforce(env, lr=1e-2, num_episodes=5000, discount=0.99, device=device)\n",
        "    reinforce.run()\n",
        "    rewards.append(reinforce.avg_reward_list)"
      ],
      "metadata": {
        "colab": {
          "base_uri": "https://localhost:8080/"
        },
        "id": "Duw-zQ1Zmei2",
        "outputId": "d3a208de-2606-4861-c059-e5e2581f2399"
      },
      "execution_count": null,
      "outputs": [
        {
          "output_type": "stream",
          "name": "stderr",
          "text": [
            "\r  0%|          | 0/1 [00:00<?, ?it/s]"
          ]
        },
        {
          "output_type": "stream",
          "name": "stdout",
          "text": [
            "Episode 100 Average Reward: -200.0\n",
            "Episode 200 Average Reward: -200.0\n",
            "Episode 300 Average Reward: -200.0\n",
            "Episode 400 Average Reward: -200.0\n",
            "Episode 500 Average Reward: -200.0\n",
            "Episode 600 Average Reward: -200.0\n",
            "Episode 700 Average Reward: -200.0\n",
            "Episode 800 Average Reward: -200.0\n",
            "Episode 900 Average Reward: -200.0\n",
            "Episode 1000 Average Reward: -200.0\n",
            "Episode 1100 Average Reward: -200.0\n",
            "Episode 1200 Average Reward: -200.0\n",
            "Episode 1300 Average Reward: -200.0\n",
            "Episode 1400 Average Reward: -200.0\n",
            "Episode 1500 Average Reward: -200.0\n",
            "Episode 1600 Average Reward: -200.0\n",
            "Episode 1700 Average Reward: -200.0\n",
            "Episode 1800 Average Reward: -200.0\n",
            "Episode 1900 Average Reward: -200.0\n",
            "Episode 2000 Average Reward: -200.0\n",
            "Episode 2100 Average Reward: -200.0\n",
            "Episode 2200 Average Reward: -200.0\n",
            "Episode 2300 Average Reward: -200.0\n",
            "Episode 2400 Average Reward: -200.0\n",
            "Episode 2500 Average Reward: -200.0\n",
            "Episode 2600 Average Reward: -200.0\n",
            "Episode 2700 Average Reward: -200.0\n",
            "Episode 2800 Average Reward: -200.0\n",
            "Episode 2900 Average Reward: -200.0\n",
            "Episode 3000 Average Reward: -200.0\n",
            "Episode 3100 Average Reward: -200.0\n",
            "Episode 3200 Average Reward: -200.0\n",
            "Episode 3300 Average Reward: -200.0\n",
            "Episode 3400 Average Reward: -200.0\n",
            "Episode 3500 Average Reward: -200.0\n",
            "Episode 3600 Average Reward: -200.0\n",
            "Episode 3700 Average Reward: -200.0\n",
            "Episode 3800 Average Reward: -200.0\n",
            "Episode 3900 Average Reward: -200.0\n",
            "Episode 4000 Average Reward: -200.0\n",
            "Episode 4100 Average Reward: -200.0\n",
            "Episode 4200 Average Reward: -200.0\n",
            "Episode 4300 Average Reward: -200.0\n",
            "Episode 4400 Average Reward: -200.0\n",
            "Episode 4500 Average Reward: -200.0\n",
            "Episode 4600 Average Reward: -200.0\n",
            "Episode 4700 Average Reward: -200.0\n",
            "Episode 4800 Average Reward: -200.0\n",
            "Episode 4900 Average Reward: -200.0\n"
          ]
        },
        {
          "output_type": "stream",
          "name": "stderr",
          "text": [
            "100%|██████████| 1/1 [24:24<00:00, 1464.42s/it]"
          ]
        },
        {
          "output_type": "stream",
          "name": "stdout",
          "text": [
            "Episode 5000 Average Reward: -200.0\n"
          ]
        },
        {
          "output_type": "stream",
          "name": "stderr",
          "text": [
            "\n"
          ]
        }
      ]
    },
    {
      "cell_type": "code",
      "source": [
        "torch.manual_seed(0) # set random seed\n",
        "device = torch.device(\"cuda:0\" if torch.cuda.is_available() else \"cpu\")\n",
        "\n",
        "rewards = []\n",
        "\n",
        "for i in tqdm(range(1)):\n",
        "    env = gym.make('MountainCar-v0')\n",
        "    env._max_episode_steps = 1000\n",
        "    # env.seed(0)\n",
        "    env.reset()\n",
        "\n",
        "    reinforce = Reinforce(env, lr=1e-2, num_episodes=5000, discount=0.99, device=device)\n",
        "    reinforce.run()\n",
        "    rewards.append(reinforce.avg_reward_list)"
      ],
      "metadata": {
        "colab": {
          "base_uri": "https://localhost:8080/",
          "height": 953
        },
        "id": "X7PTlpIuaro5",
        "outputId": "44402405-9360-4e77-d212-ae6e9ea6d88a"
      },
      "execution_count": null,
      "outputs": [
        {
          "output_type": "stream",
          "name": "stdout",
          "text": [
            "Episode 100\tAverage Score: -1000.00\n",
            "Episode 200\tAverage Score: -1000.00\n",
            "Episode 300\tAverage Score: -1000.00\n",
            "Episode 400\tAverage Score: -1000.00\n",
            "Episode 500\tAverage Score: -1000.00\n",
            "Episode 600\tAverage Score: -1000.00\n",
            "Episode 700\tAverage Score: -1000.00\n",
            "Episode 800\tAverage Score: -1000.00\n",
            "Episode 900\tAverage Score: -1000.00\n",
            "Episode 1000\tAverage Score: -1000.00\n",
            "Episode 1100\tAverage Score: -1000.00\n",
            "Episode 1200\tAverage Score: -1000.00\n",
            "Episode 1300\tAverage Score: -1000.00\n",
            "Episode 1400\tAverage Score: -1000.00\n",
            "Episode 1500\tAverage Score: -1000.00\n",
            "Episode 1600\tAverage Score: -1000.00\n",
            "Episode 1700\tAverage Score: -1000.00\n",
            "Episode 1800\tAverage Score: -1000.00\n",
            "Episode 1900\tAverage Score: -1000.00\n",
            "Episode 2000\tAverage Score: -1000.00\n",
            "Episode 2100\tAverage Score: -1000.00\n",
            "Episode 2200\tAverage Score: -1000.00\n",
            "Episode 2300\tAverage Score: -1000.00\n",
            "Episode 2400\tAverage Score: -1000.00\n",
            "Episode 2500\tAverage Score: -1000.00\n",
            "Episode 2600\tAverage Score: -1000.00\n",
            "Episode 2700\tAverage Score: -1000.00\n",
            "Episode 2800\tAverage Score: -1000.00\n",
            "Episode 2900\tAverage Score: -1000.00\n",
            "Episode 3000\tAverage Score: -1000.00\n",
            "Episode 3100\tAverage Score: -1000.00\n",
            "Episode 3200\tAverage Score: -1000.00\n",
            "Episode 3300\tAverage Score: -1000.00\n",
            "Episode 3400\tAverage Score: -1000.00\n",
            "Episode 3500\tAverage Score: -1000.00\n"
          ]
        },
        {
          "output_type": "error",
          "ename": "KeyboardInterrupt",
          "evalue": "ignored",
          "traceback": [
            "\u001b[0;31m---------------------------------------------------------------------------\u001b[0m",
            "\u001b[0;31mKeyboardInterrupt\u001b[0m                         Traceback (most recent call last)",
            "\u001b[0;32m<ipython-input-13-e5ee1e54c195>\u001b[0m in \u001b[0;36m<module>\u001b[0;34m()\u001b[0m\n\u001b[1;32m     39\u001b[0m     \u001b[0;32mreturn\u001b[0m \u001b[0mscores\u001b[0m\u001b[0;34m\u001b[0m\u001b[0;34m\u001b[0m\u001b[0m\n\u001b[1;32m     40\u001b[0m \u001b[0;34m\u001b[0m\u001b[0m\n\u001b[0;32m---> 41\u001b[0;31m \u001b[0mscores\u001b[0m \u001b[0;34m=\u001b[0m \u001b[0mreinforce\u001b[0m\u001b[0;34m(\u001b[0m\u001b[0;34m)\u001b[0m\u001b[0;34m\u001b[0m\u001b[0;34m\u001b[0m\u001b[0m\n\u001b[0m",
            "\u001b[0;32m<ipython-input-13-e5ee1e54c195>\u001b[0m in \u001b[0;36mreinforce\u001b[0;34m(n_episodes, max_t, gamma, print_every)\u001b[0m\n\u001b[1;32m     28\u001b[0m \u001b[0;34m\u001b[0m\u001b[0m\n\u001b[1;32m     29\u001b[0m         \u001b[0moptimizer\u001b[0m\u001b[0;34m.\u001b[0m\u001b[0mzero_grad\u001b[0m\u001b[0;34m(\u001b[0m\u001b[0;34m)\u001b[0m\u001b[0;34m\u001b[0m\u001b[0;34m\u001b[0m\u001b[0m\n\u001b[0;32m---> 30\u001b[0;31m         \u001b[0mpolicy_loss\u001b[0m\u001b[0;34m.\u001b[0m\u001b[0mbackward\u001b[0m\u001b[0;34m(\u001b[0m\u001b[0;34m)\u001b[0m\u001b[0;34m\u001b[0m\u001b[0;34m\u001b[0m\u001b[0m\n\u001b[0m\u001b[1;32m     31\u001b[0m         \u001b[0moptimizer\u001b[0m\u001b[0;34m.\u001b[0m\u001b[0mstep\u001b[0m\u001b[0;34m(\u001b[0m\u001b[0;34m)\u001b[0m\u001b[0;34m\u001b[0m\u001b[0;34m\u001b[0m\u001b[0m\n\u001b[1;32m     32\u001b[0m \u001b[0;34m\u001b[0m\u001b[0m\n",
            "\u001b[0;32m/usr/local/lib/python3.7/dist-packages/torch/_tensor.py\u001b[0m in \u001b[0;36mbackward\u001b[0;34m(self, gradient, retain_graph, create_graph, inputs)\u001b[0m\n\u001b[1;32m    305\u001b[0m                 \u001b[0mcreate_graph\u001b[0m\u001b[0;34m=\u001b[0m\u001b[0mcreate_graph\u001b[0m\u001b[0;34m,\u001b[0m\u001b[0;34m\u001b[0m\u001b[0;34m\u001b[0m\u001b[0m\n\u001b[1;32m    306\u001b[0m                 inputs=inputs)\n\u001b[0;32m--> 307\u001b[0;31m         \u001b[0mtorch\u001b[0m\u001b[0;34m.\u001b[0m\u001b[0mautograd\u001b[0m\u001b[0;34m.\u001b[0m\u001b[0mbackward\u001b[0m\u001b[0;34m(\u001b[0m\u001b[0mself\u001b[0m\u001b[0;34m,\u001b[0m \u001b[0mgradient\u001b[0m\u001b[0;34m,\u001b[0m \u001b[0mretain_graph\u001b[0m\u001b[0;34m,\u001b[0m \u001b[0mcreate_graph\u001b[0m\u001b[0;34m,\u001b[0m \u001b[0minputs\u001b[0m\u001b[0;34m=\u001b[0m\u001b[0minputs\u001b[0m\u001b[0;34m)\u001b[0m\u001b[0;34m\u001b[0m\u001b[0;34m\u001b[0m\u001b[0m\n\u001b[0m\u001b[1;32m    308\u001b[0m \u001b[0;34m\u001b[0m\u001b[0m\n\u001b[1;32m    309\u001b[0m     \u001b[0;32mdef\u001b[0m \u001b[0mregister_hook\u001b[0m\u001b[0;34m(\u001b[0m\u001b[0mself\u001b[0m\u001b[0;34m,\u001b[0m \u001b[0mhook\u001b[0m\u001b[0;34m)\u001b[0m\u001b[0;34m:\u001b[0m\u001b[0;34m\u001b[0m\u001b[0;34m\u001b[0m\u001b[0m\n",
            "\u001b[0;32m/usr/local/lib/python3.7/dist-packages/torch/autograd/__init__.py\u001b[0m in \u001b[0;36mbackward\u001b[0;34m(tensors, grad_tensors, retain_graph, create_graph, grad_variables, inputs)\u001b[0m\n\u001b[1;32m    154\u001b[0m     Variable._execution_engine.run_backward(\n\u001b[1;32m    155\u001b[0m         \u001b[0mtensors\u001b[0m\u001b[0;34m,\u001b[0m \u001b[0mgrad_tensors_\u001b[0m\u001b[0;34m,\u001b[0m \u001b[0mretain_graph\u001b[0m\u001b[0;34m,\u001b[0m \u001b[0mcreate_graph\u001b[0m\u001b[0;34m,\u001b[0m \u001b[0minputs\u001b[0m\u001b[0;34m,\u001b[0m\u001b[0;34m\u001b[0m\u001b[0;34m\u001b[0m\u001b[0m\n\u001b[0;32m--> 156\u001b[0;31m         allow_unreachable=True, accumulate_grad=True)  # allow_unreachable flag\n\u001b[0m\u001b[1;32m    157\u001b[0m \u001b[0;34m\u001b[0m\u001b[0m\n\u001b[1;32m    158\u001b[0m \u001b[0;34m\u001b[0m\u001b[0m\n",
            "\u001b[0;31mKeyboardInterrupt\u001b[0m: "
          ]
        }
      ]
    },
    {
      "cell_type": "markdown",
      "source": [
        "### REINFORCE Version 2"
      ],
      "metadata": {
        "id": "GOenyeMZd7yR"
      }
    },
    {
      "cell_type": "code",
      "source": [
        "torch.manual_seed(0) # set random seed\n",
        "device = torch.device(\"cuda:0\" if torch.cuda.is_available() else \"cpu\")\n",
        "\n",
        "rewards = []\n",
        "\n",
        "for i in tqdm(range(1)):\n",
        "    env = gym.make('MountainCar-v0')\n",
        "    # env.seed(0)\n",
        "    env.reset()\n",
        "\n",
        "    reinforce = ReinforceWithLowVariance(env, lr=1e-2, num_episodes=5000, discount=0.99, device=device)\n",
        "    reinforce.run()\n",
        "    rewards.append(reinforce.avg_reward_list)"
      ],
      "metadata": {
        "colab": {
          "base_uri": "https://localhost:8080/"
        },
        "id": "FaWyM1BNdH63",
        "outputId": "39c941a2-4453-404f-8a5c-c3aa3ac2a07c"
      },
      "execution_count": null,
      "outputs": [
        {
          "output_type": "stream",
          "name": "stderr",
          "text": [
            "\r  0%|          | 0/1 [00:00<?, ?it/s]"
          ]
        },
        {
          "output_type": "stream",
          "name": "stdout",
          "text": [
            "Episode 100 Average Reward: -200.0\n",
            "Episode 200 Average Reward: -200.0\n",
            "Episode 300 Average Reward: -200.0\n",
            "Episode 400 Average Reward: -200.0\n",
            "Episode 500 Average Reward: -200.0\n",
            "Episode 600 Average Reward: -200.0\n",
            "Episode 700 Average Reward: -200.0\n",
            "Episode 800 Average Reward: -200.0\n",
            "Episode 900 Average Reward: -200.0\n",
            "Episode 1000 Average Reward: -200.0\n",
            "Episode 1100 Average Reward: -200.0\n",
            "Episode 1200 Average Reward: -200.0\n",
            "Episode 1300 Average Reward: -200.0\n",
            "Episode 1400 Average Reward: -200.0\n",
            "Episode 1500 Average Reward: -200.0\n",
            "Episode 1600 Average Reward: -200.0\n",
            "Episode 1700 Average Reward: -200.0\n",
            "Episode 1800 Average Reward: -200.0\n",
            "Episode 1900 Average Reward: -200.0\n",
            "Episode 2000 Average Reward: -200.0\n",
            "Episode 2100 Average Reward: -200.0\n",
            "Episode 2200 Average Reward: -200.0\n",
            "Episode 2300 Average Reward: -200.0\n",
            "Episode 2400 Average Reward: -200.0\n",
            "Episode 2500 Average Reward: -200.0\n",
            "Episode 2600 Average Reward: -200.0\n",
            "Episode 2700 Average Reward: -200.0\n",
            "Episode 2800 Average Reward: -200.0\n",
            "Episode 2900 Average Reward: -200.0\n",
            "Episode 3000 Average Reward: -200.0\n",
            "Episode 3100 Average Reward: -200.0\n",
            "Episode 3200 Average Reward: -200.0\n",
            "Episode 3300 Average Reward: -200.0\n",
            "Episode 3400 Average Reward: -200.0\n",
            "Episode 3500 Average Reward: -200.0\n",
            "Episode 3600 Average Reward: -200.0\n",
            "Episode 3700 Average Reward: -200.0\n",
            "Episode 3800 Average Reward: -200.0\n",
            "Episode 3900 Average Reward: -200.0\n",
            "Episode 4000 Average Reward: -200.0\n",
            "Episode 4100 Average Reward: -200.0\n",
            "Episode 4200 Average Reward: -200.0\n",
            "Episode 4300 Average Reward: -200.0\n",
            "Episode 4400 Average Reward: -200.0\n",
            "Episode 4500 Average Reward: -200.0\n",
            "Episode 4600 Average Reward: -200.0\n",
            "Episode 4700 Average Reward: -200.0\n",
            "Episode 4800 Average Reward: -200.0\n",
            "Episode 4900 Average Reward: -200.0\n"
          ]
        },
        {
          "output_type": "stream",
          "name": "stderr",
          "text": [
            "100%|██████████| 1/1 [21:23<00:00, 1283.55s/it]"
          ]
        },
        {
          "output_type": "stream",
          "name": "stdout",
          "text": [
            "Episode 5000 Average Reward: -200.0\n"
          ]
        },
        {
          "output_type": "stream",
          "name": "stderr",
          "text": [
            "\n"
          ]
        }
      ]
    },
    {
      "cell_type": "markdown",
      "source": [
        "## CartPole"
      ],
      "metadata": {
        "id": "2RHyJLtULURT"
      }
    },
    {
      "cell_type": "markdown",
      "source": [
        "### REINFORCE Version 1"
      ],
      "metadata": {
        "id": "FSB8OsbLLorz"
      }
    },
    {
      "cell_type": "code",
      "source": [
        "torch.manual_seed(0) # set random seed\n",
        "device = torch.device(\"cuda:0\" if torch.cuda.is_available() else \"cpu\")\n",
        "\n",
        "rewards = []\n",
        "\n",
        "for i in tqdm(range(1)):\n",
        "    env = gym.make('CartPole-v0')\n",
        "    env.reset()\n",
        "\n",
        "    reinforce = Reinforce(env, lr=1e-2, num_episodes=5000, discount=0.99, device=device)\n",
        "    reinforce.run()\n",
        "    rewards.append(reinforce.avg_reward_list)"
      ],
      "metadata": {
        "id": "m4RiWok0vH2R",
        "colab": {
          "base_uri": "https://localhost:8080/"
        },
        "outputId": "466a8386-bdcb-44cd-9078-2ec5708fa04a"
      },
      "execution_count": null,
      "outputs": [
        {
          "output_type": "stream",
          "name": "stderr",
          "text": [
            "\r  0%|          | 0/1 [00:00<?, ?it/s]"
          ]
        },
        {
          "output_type": "stream",
          "name": "stdout",
          "text": [
            "Episode 100 Average Reward: 18.44\n",
            "Episode 200 Average Reward: 57.23\n",
            "Episode 300 Average Reward: 66.76\n",
            "Episode 400 Average Reward: 88.97\n",
            "Episode 500 Average Reward: 95.6\n",
            "Episode 600 Average Reward: 86.75\n",
            "Episode 700 Average Reward: 56.73\n",
            "Episode 800 Average Reward: 104.8\n",
            "Episode 900 Average Reward: 74.53\n",
            "Episode 1000 Average Reward: 107.15\n",
            "Episode 1100 Average Reward: 159.66\n",
            "Episode 1200 Average Reward: 175.01\n",
            "Episode 1300 Average Reward: 44.1\n",
            "Episode 1400 Average Reward: 90.04\n",
            "Episode 1500 Average Reward: 52.13\n",
            "Episode 1600 Average Reward: 94.95\n",
            "Episode 1700 Average Reward: 160.32\n",
            "Episode 1800 Average Reward: 76.69\n",
            "Episode 1900 Average Reward: 53.6\n",
            "Episode 2000 Average Reward: 53.07\n",
            "Episode 2100 Average Reward: 49.96\n",
            "Episode 2200 Average Reward: 47.47\n",
            "Episode 2300 Average Reward: 62.56\n",
            "Episode 2400 Average Reward: 77.25\n",
            "Episode 2500 Average Reward: 131.17\n",
            "Episode 2600 Average Reward: 146.48\n",
            "Episode 2700 Average Reward: 60.9\n",
            "Episode 2800 Average Reward: 66.48\n",
            "Episode 2900 Average Reward: 107.53\n",
            "Episode 3000 Average Reward: 142.05\n",
            "Episode 3100 Average Reward: 96.71\n",
            "Episode 3200 Average Reward: 62.84\n",
            "Episode 3300 Average Reward: 135.91\n",
            "Episode 3400 Average Reward: 126.94\n",
            "Episode 3500 Average Reward: 85.52\n",
            "Episode 3600 Average Reward: 76.24\n",
            "Episode 3700 Average Reward: 72.11\n",
            "Episode 3800 Average Reward: 80.11\n",
            "Episode 3900 Average Reward: 80.47\n",
            "Episode 4000 Average Reward: 76.84\n",
            "Episode 4100 Average Reward: 93.81\n",
            "Episode 4200 Average Reward: 86.33\n",
            "Episode 4300 Average Reward: 90.07\n",
            "Episode 4400 Average Reward: 89.45\n",
            "Episode 4500 Average Reward: 138.49\n",
            "Episode 4600 Average Reward: 162.94\n",
            "Episode 4700 Average Reward: 199.58\n",
            "Episode 4800 Average Reward: 200.0\n",
            "Episode 4900 Average Reward: 200.0\n"
          ]
        },
        {
          "output_type": "stream",
          "name": "stderr",
          "text": [
            "100%|██████████| 1/1 [10:07<00:00, 607.65s/it]"
          ]
        },
        {
          "output_type": "stream",
          "name": "stdout",
          "text": [
            "Episode 5000 Average Reward: 200.0\n"
          ]
        },
        {
          "output_type": "stream",
          "name": "stderr",
          "text": [
            "\n"
          ]
        }
      ]
    },
    {
      "cell_type": "markdown",
      "source": [
        "### REINFORCE Version 2"
      ],
      "metadata": {
        "id": "K90SsKIoL4BK"
      }
    },
    {
      "cell_type": "code",
      "source": [
        "torch.manual_seed(0) # set random seed\n",
        "device = torch.device(\"cuda:0\" if torch.cuda.is_available() else \"cpu\")\n",
        "\n",
        "rewards = []\n",
        "\n",
        "for i in tqdm(range(2)):\n",
        "    env = gym.make('CartPole-v0')\n",
        "    env.reset()\n",
        "\n",
        "    reinforce = ReinforceWithLowVariance(env, lr=1e-2, num_episodes=5000, discount=0.99, device=device)\n",
        "    reinforce.run()\n",
        "    rewards.append(reinforce.avg_reward_list)"
      ],
      "metadata": {
        "colab": {
          "base_uri": "https://localhost:8080/"
        },
        "id": "hOVpKqRU78-L",
        "outputId": "48a2fa1f-e23f-4f71-ab25-a0eb479a9210"
      },
      "execution_count": null,
      "outputs": [
        {
          "output_type": "stream",
          "name": "stderr",
          "text": [
            "\r  0%|          | 0/2 [00:00<?, ?it/s]"
          ]
        },
        {
          "output_type": "stream",
          "name": "stdout",
          "text": [
            "Episode 100 Average Reward: 101.67\n",
            "Episode 200 Average Reward: 178.8\n",
            "Episode 300 Average Reward: 195.36\n",
            "Episode 400 Average Reward: 189.08\n",
            "Episode 500 Average Reward: 178.54\n",
            "Episode 600 Average Reward: 187.36\n",
            "Episode 700 Average Reward: 177.11\n",
            "Episode 800 Average Reward: 193.23\n",
            "Episode 900 Average Reward: 199.97\n",
            "Episode 1000 Average Reward: 190.11\n",
            "Episode 1100 Average Reward: 195.07\n",
            "Episode 1200 Average Reward: 169.79\n",
            "Episode 1300 Average Reward: 114.85\n",
            "Episode 1400 Average Reward: 183.8\n",
            "Episode 1500 Average Reward: 199.89\n",
            "Episode 1600 Average Reward: 150.01\n",
            "Episode 1700 Average Reward: 197.61\n",
            "Episode 1800 Average Reward: 199.68\n",
            "Episode 1900 Average Reward: 198.07\n",
            "Episode 2000 Average Reward: 139.55\n",
            "Episode 2100 Average Reward: 110.27\n",
            "Episode 2200 Average Reward: 104.62\n",
            "Episode 2300 Average Reward: 121.13\n",
            "Episode 2400 Average Reward: 130.71\n",
            "Episode 2500 Average Reward: 149.95\n",
            "Episode 2600 Average Reward: 107.24\n",
            "Episode 2700 Average Reward: 85.62\n",
            "Episode 2800 Average Reward: 75.62\n",
            "Episode 2900 Average Reward: 112.66\n",
            "Episode 3000 Average Reward: 112.04\n",
            "Episode 3100 Average Reward: 118.49\n",
            "Episode 3200 Average Reward: 135.29\n",
            "Episode 3300 Average Reward: 170.91\n",
            "Episode 3400 Average Reward: 161.1\n",
            "Episode 3500 Average Reward: 142.56\n",
            "Episode 3600 Average Reward: 111.23\n",
            "Episode 3700 Average Reward: 116.76\n",
            "Episode 3800 Average Reward: 136.04\n",
            "Episode 3900 Average Reward: 143.81\n",
            "Episode 4000 Average Reward: 99.63\n",
            "Episode 4100 Average Reward: 91.44\n",
            "Episode 4200 Average Reward: 123.17\n",
            "Episode 4300 Average Reward: 149.14\n",
            "Episode 4400 Average Reward: 120.93\n",
            "Episode 4500 Average Reward: 130.45\n",
            "Episode 4600 Average Reward: 176.93\n",
            "Episode 4700 Average Reward: 146.34\n",
            "Episode 4800 Average Reward: 128.88\n",
            "Episode 4900 Average Reward: 117.86\n"
          ]
        },
        {
          "output_type": "stream",
          "name": "stderr",
          "text": [
            "\r 50%|█████     | 1/2 [15:33<15:33, 933.62s/it]"
          ]
        },
        {
          "output_type": "stream",
          "name": "stdout",
          "text": [
            "Episode 5000 Average Reward: 131.43\n",
            "Episode 100 Average Reward: 41.08\n",
            "Episode 200 Average Reward: 139.5\n",
            "Episode 300 Average Reward: 139.79\n",
            "Episode 400 Average Reward: 190.09\n",
            "Episode 500 Average Reward: 200.0\n",
            "Episode 600 Average Reward: 200.0\n",
            "Episode 700 Average Reward: 191.53\n",
            "Episode 800 Average Reward: 189.74\n",
            "Episode 900 Average Reward: 187.64\n",
            "Episode 1000 Average Reward: 200.0\n",
            "Episode 1100 Average Reward: 195.27\n",
            "Episode 1200 Average Reward: 199.14\n",
            "Episode 1300 Average Reward: 121.8\n",
            "Episode 1400 Average Reward: 102.62\n",
            "Episode 1500 Average Reward: 127.66\n",
            "Episode 1600 Average Reward: 117.39\n",
            "Episode 1700 Average Reward: 103.28\n",
            "Episode 1800 Average Reward: 142.1\n",
            "Episode 1900 Average Reward: 124.9\n",
            "Episode 2000 Average Reward: 94.28\n",
            "Episode 2100 Average Reward: 111.25\n",
            "Episode 2200 Average Reward: 78.41\n",
            "Episode 2300 Average Reward: 91.42\n",
            "Episode 2400 Average Reward: 68.8\n",
            "Episode 2500 Average Reward: 89.96\n",
            "Episode 2600 Average Reward: 155.18\n",
            "Episode 2700 Average Reward: 195.96\n",
            "Episode 2800 Average Reward: 145.85\n",
            "Episode 2900 Average Reward: 87.08\n",
            "Episode 3000 Average Reward: 107.92\n",
            "Episode 3100 Average Reward: 153.06\n",
            "Episode 3200 Average Reward: 167.76\n",
            "Episode 3300 Average Reward: 193.26\n",
            "Episode 3400 Average Reward: 200.0\n",
            "Episode 3500 Average Reward: 200.0\n",
            "Episode 3600 Average Reward: 200.0\n",
            "Episode 3700 Average Reward: 196.23\n",
            "Episode 3800 Average Reward: 200.0\n",
            "Episode 3900 Average Reward: 190.64\n",
            "Episode 4000 Average Reward: 200.0\n",
            "Episode 4100 Average Reward: 200.0\n",
            "Episode 4200 Average Reward: 183.34\n",
            "Episode 4300 Average Reward: 144.27\n",
            "Episode 4400 Average Reward: 120.26\n",
            "Episode 4500 Average Reward: 132.31\n",
            "Episode 4600 Average Reward: 120.56\n",
            "Episode 4700 Average Reward: 129.77\n",
            "Episode 4800 Average Reward: 183.65\n",
            "Episode 4900 Average Reward: 170.69\n"
          ]
        },
        {
          "output_type": "stream",
          "name": "stderr",
          "text": [
            "100%|██████████| 2/2 [31:45<00:00, 953.00s/it]"
          ]
        },
        {
          "output_type": "stream",
          "name": "stdout",
          "text": [
            "Episode 5000 Average Reward: 195.14\n"
          ]
        },
        {
          "output_type": "stream",
          "name": "stderr",
          "text": [
            "\n"
          ]
        }
      ]
    },
    {
      "cell_type": "code",
      "source": [
        "rewards_reinforce = pickle.load(open('Cartpole_reinforce.sav', 'rb'))\n",
        "rewards_reinforce_var = pickle.load(open('Cartpole_reinforce_variance.sav', 'rb'))\n",
        "\n",
        "rewards_reinforce = np.array(rewards_reinforce)\n",
        "print(rewards_reinforce.shape)\n",
        "rewards_reinforce_var = np.array(rewards_reinforce_var)\n",
        "print(rewards_reinforce_var.shape)\n",
        "plt.plot(100*(np.arange(len(rewards_reinforce[0])) + 1), rewards_reinforce.mean(axis=0), label='REINFORCE')\n",
        "plt.plot(100*(np.arange(len(rewards_reinforce_var[0])) + 1), rewards_reinforce_var.mean(axis=0), label='REINFORCE_var')\n",
        "plt.xlabel('Episodes')\n",
        "plt.ylabel('Average Reward')\n",
        "plt.title('Average Reward vs Episodes')\n",
        "plt.legend()\n",
        "plt.savefig('Cartpole_reinforce.png')\n",
        "plt.show()"
      ],
      "metadata": {
        "colab": {
          "base_uri": "https://localhost:8080/",
          "height": 330
        },
        "outputId": "25555ffd-859f-48e7-9cbe-fed04532aca4",
        "id": "4JD1z0iDM5Yi"
      },
      "execution_count": null,
      "outputs": [
        {
          "output_type": "stream",
          "name": "stdout",
          "text": [
            "(2, 50)\n",
            "(2, 50)\n"
          ]
        },
        {
          "output_type": "display_data",
          "data": {
            "text/plain": [
              "<Figure size 432x288 with 1 Axes>"
            ],
            "image/png": "[encoded data removed]"
          },
          "metadata": {
            "needs_background": "light"
          }
        }
      ]
    },
    {
      "cell_type": "markdown",
      "source": [
        "# Deep Reinforcement Learning"
      ],
      "metadata": {
        "id": "i1vuoz3TNJ9b"
      }
    },
    {
      "cell_type": "markdown",
      "source": [
        "## Advantage Actor Critic (A2C)"
      ],
      "metadata": {
        "id": "G2NYUfu6poLz"
      }
    },
    {
      "cell_type": "code",
      "source": [
        "# helper function to convert numpy arrays to tensors\n",
        "def t(x): return torch.from_numpy(x).float()"
      ],
      "metadata": {
        "id": "7jiN6KhqptI5"
      },
      "execution_count": null,
      "outputs": []
    },
    {
      "cell_type": "code",
      "source": [
        "# Actor module, categorical actions only\n",
        "class Actor(nn.Module):\n",
        "    def __init__(self, state_dim, n_actions):\n",
        "        super().__init__()\n",
        "        self.model = nn.Sequential(\n",
        "            nn.Linear(state_dim, 64),\n",
        "            nn.ReLU(),\n",
        "            nn.Linear(64, 64),\n",
        "            nn.ReLU(),\n",
        "            nn.Linear(64, n_actions),\n",
        "            nn.Softmax()\n",
        "        )\n",
        "    \n",
        "    def forward(self, X):\n",
        "        return self.model(X)"
      ],
      "metadata": {
        "id": "9YvQeNETpurf"
      },
      "execution_count": null,
      "outputs": []
    },
    {
      "cell_type": "code",
      "source": [
        "# Critic module\n",
        "class Critic(nn.Module):\n",
        "    def __init__(self, state_dim):\n",
        "        super().__init__()\n",
        "        self.model = nn.Sequential(\n",
        "            nn.Linear(state_dim, 64),\n",
        "            nn.ReLU(),\n",
        "            nn.Linear(64, 64),\n",
        "            nn.ReLU(),\n",
        "            nn.Linear(64, 1)\n",
        "        )\n",
        "    \n",
        "    def forward(self, X):\n",
        "        return self.model(X)"
      ],
      "metadata": {
        "id": "CE0W4rSQqFEv"
      },
      "execution_count": null,
      "outputs": []
    },
    {
      "cell_type": "code",
      "source": [
        "class A2C:\n",
        "    def __init__(self, num_episodes, env, lr, discount):\n",
        "        self.num_episodes = num_episodes\n",
        "        self.env = env\n",
        "        self.discount = discount\n",
        "        self.lr = lr\n",
        "\n",
        "        state_dim = env.observation_space.shape[0]\n",
        "        n_actions = env.action_space.n\n",
        "        self.actor = Actor(state_dim, n_actions)\n",
        "        self.critic = Critic(state_dim)\n",
        "\n",
        "        self.adam_actor = torch.optim.Adam(self.actor.parameters(), lr=lr)\n",
        "        self.adam_critic = torch.optim.Adam(self.critic.parameters(), lr=lr)\n",
        "\n",
        "        self.episode_rewards = []\n",
        "        self.avg_reward_list = []\n",
        "\n",
        "    def run(self, verbose=True):\n",
        "\n",
        "        for i in tqdm(range(self.num_episodes)):\n",
        "            done = False\n",
        "            total_reward = 0\n",
        "            state = self.env.reset()\n",
        "\n",
        "            while not done:\n",
        "                probs = self.actor(t(state))\n",
        "                dist = torch.distributions.Categorical(probs=probs)\n",
        "                action = dist.sample()\n",
        "                \n",
        "                next_state, reward, done, info = self.env.step(action.detach().data.numpy())\n",
        "                advantage = reward + (1-done)*self.discount*self.critic(t(next_state)) - self.critic(t(state))\n",
        "                \n",
        "                total_reward += reward\n",
        "                state = next_state\n",
        "\n",
        "                critic_loss = advantage.pow(2).mean()\n",
        "                self.adam_critic.zero_grad()\n",
        "                critic_loss.backward()\n",
        "                self.adam_critic.step()\n",
        "\n",
        "                actor_loss = -dist.log_prob(action)*advantage.detach()\n",
        "                self.adam_actor.zero_grad()\n",
        "                actor_loss.backward()\n",
        "                self.adam_actor.step()\n",
        "                    \n",
        "            self.episode_rewards.append(total_reward)\n",
        "\n",
        "            if (i+1) % 100 == 0:\n",
        "                avg_reward = np.mean(self.episode_rewards)\n",
        "                self.avg_reward_list.append(avg_reward)\n",
        "                self.episode_rewards = []\n",
        "                    \n",
        "            if (i+1) % 100 == 0 and verbose:    \n",
        "                print('Episode {} Average Reward: {}'.format(i+1, avg_reward))\n",
        "\n",
        "            if (i+1) % 1000 == 0:\n",
        "                self.lr *= 0.9\n",
        "                for param_group in self.adam_actor.param_groups:\n",
        "                    param_group['lr'] = self.lr\n",
        "\n",
        "                for param_group in self.adam_critic.param_groups:\n",
        "                    param_group['lr'] = self.lr"
      ],
      "metadata": {
        "id": "OPOKJ_LqqQt6"
      },
      "execution_count": null,
      "outputs": []
    },
    {
      "cell_type": "code",
      "source": [
        "rewards = []\n",
        "for i in range(1):\n",
        "    env = gym.make(\"CartPole-v0\")\n",
        "    env.reset()\n",
        "\n",
        "    a2c = A2C(num_episodes=5000, env=env, lr=1e-3, discount=0.99)\n",
        "    a2c.run()\n",
        "    rewards.append(a2c.avg_reward_list)"
      ],
      "metadata": {
        "colab": {
          "base_uri": "https://localhost:8080/"
        },
        "id": "YajFdTb8q46b",
        "outputId": "0a87eb38-1940-4c88-d429-662b529db660"
      },
      "execution_count": null,
      "outputs": [
        {
          "output_type": "stream",
          "name": "stderr",
          "text": [
            "  0%|          | 0/5000 [00:00<?, ?it/s]/usr/local/lib/python3.7/dist-packages/torch/nn/modules/container.py:141: UserWarning: Implicit dimension choice for softmax has been deprecated. Change the call to include dim=X as an argument.\n",
            "  input = module(input)\n",
            "  2%|▏         | 101/5000 [00:12<12:54,  6.33it/s]"
          ]
        },
        {
          "output_type": "stream",
          "name": "stdout",
          "text": [
            "Episode 100 Average Reward: 38.12\n"
          ]
        },
        {
          "output_type": "stream",
          "name": "stderr",
          "text": [
            "  4%|▍         | 200/5000 [00:37<23:30,  3.40it/s]"
          ]
        },
        {
          "output_type": "stream",
          "name": "stdout",
          "text": [
            "Episode 200 Average Reward: 77.4\n"
          ]
        },
        {
          "output_type": "stream",
          "name": "stderr",
          "text": [
            "  6%|▌         | 300/5000 [01:19<49:24,  1.59it/s]"
          ]
        },
        {
          "output_type": "stream",
          "name": "stdout",
          "text": [
            "Episode 300 Average Reward: 129.8\n"
          ]
        },
        {
          "output_type": "stream",
          "name": "stderr",
          "text": [
            "  8%|▊         | 400/5000 [02:08<33:01,  2.32it/s]"
          ]
        },
        {
          "output_type": "stream",
          "name": "stdout",
          "text": [
            "Episode 400 Average Reward: 151.61\n"
          ]
        },
        {
          "output_type": "stream",
          "name": "stderr",
          "text": [
            " 10%|█         | 500/5000 [02:52<09:07,  8.22it/s]"
          ]
        },
        {
          "output_type": "stream",
          "name": "stdout",
          "text": [
            "Episode 500 Average Reward: 136.38\n"
          ]
        },
        {
          "output_type": "stream",
          "name": "stderr",
          "text": [
            " 12%|█▏        | 600/5000 [03:42<36:33,  2.01it/s]"
          ]
        },
        {
          "output_type": "stream",
          "name": "stdout",
          "text": [
            "Episode 600 Average Reward: 150.46\n"
          ]
        },
        {
          "output_type": "stream",
          "name": "stderr",
          "text": [
            " 14%|█▍        | 700/5000 [04:20<34:03,  2.10it/s]"
          ]
        },
        {
          "output_type": "stream",
          "name": "stdout",
          "text": [
            "Episode 700 Average Reward: 111.03\n"
          ]
        },
        {
          "output_type": "stream",
          "name": "stderr",
          "text": [
            " 16%|█▌        | 800/5000 [05:14<32:42,  2.14it/s]"
          ]
        },
        {
          "output_type": "stream",
          "name": "stdout",
          "text": [
            "Episode 800 Average Reward: 155.29\n"
          ]
        },
        {
          "output_type": "stream",
          "name": "stderr",
          "text": [
            " 18%|█▊        | 900/5000 [05:47<23:54,  2.86it/s]"
          ]
        },
        {
          "output_type": "stream",
          "name": "stdout",
          "text": [
            "Episode 900 Average Reward: 91.43\n"
          ]
        },
        {
          "output_type": "stream",
          "name": "stderr",
          "text": [
            " 20%|██        | 1000/5000 [06:51<45:45,  1.46it/s]"
          ]
        },
        {
          "output_type": "stream",
          "name": "stdout",
          "text": [
            "Episode 1000 Average Reward: 175.81\n"
          ]
        },
        {
          "output_type": "stream",
          "name": "stderr",
          "text": [
            " 22%|██▏       | 1100/5000 [07:55<39:20,  1.65it/s]"
          ]
        },
        {
          "output_type": "stream",
          "name": "stdout",
          "text": [
            "Episode 1100 Average Reward: 177.49\n"
          ]
        },
        {
          "output_type": "stream",
          "name": "stderr",
          "text": [
            " 24%|██▍       | 1200/5000 [09:02<36:40,  1.73it/s]"
          ]
        },
        {
          "output_type": "stream",
          "name": "stdout",
          "text": [
            "Episode 1200 Average Reward: 181.18\n"
          ]
        },
        {
          "output_type": "stream",
          "name": "stderr",
          "text": [
            " 26%|██▌       | 1300/5000 [09:44<33:27,  1.84it/s]"
          ]
        },
        {
          "output_type": "stream",
          "name": "stdout",
          "text": [
            "Episode 1300 Average Reward: 111.78\n"
          ]
        },
        {
          "output_type": "stream",
          "name": "stderr",
          "text": [
            " 28%|██▊       | 1400/5000 [10:29<35:51,  1.67it/s]"
          ]
        },
        {
          "output_type": "stream",
          "name": "stdout",
          "text": [
            "Episode 1400 Average Reward: 120.18\n"
          ]
        },
        {
          "output_type": "stream",
          "name": "stderr",
          "text": [
            " 30%|███       | 1500/5000 [11:14<33:03,  1.76it/s]"
          ]
        },
        {
          "output_type": "stream",
          "name": "stdout",
          "text": [
            "Episode 1500 Average Reward: 121.03\n"
          ]
        },
        {
          "output_type": "stream",
          "name": "stderr",
          "text": [
            " 32%|███▏      | 1600/5000 [11:59<33:41,  1.68it/s]"
          ]
        },
        {
          "output_type": "stream",
          "name": "stdout",
          "text": [
            "Episode 1600 Average Reward: 120.08\n"
          ]
        },
        {
          "output_type": "stream",
          "name": "stderr",
          "text": [
            " 34%|███▍      | 1700/5000 [12:48<28:37,  1.92it/s]"
          ]
        },
        {
          "output_type": "stream",
          "name": "stdout",
          "text": [
            "Episode 1700 Average Reward: 134.59\n"
          ]
        },
        {
          "output_type": "stream",
          "name": "stderr",
          "text": [
            " 36%|███▌      | 1800/5000 [13:30<22:28,  2.37it/s]"
          ]
        },
        {
          "output_type": "stream",
          "name": "stdout",
          "text": [
            "Episode 1800 Average Reward: 109.51\n"
          ]
        },
        {
          "output_type": "stream",
          "name": "stderr",
          "text": [
            " 38%|███▊      | 1900/5000 [14:05<15:09,  3.41it/s]"
          ]
        },
        {
          "output_type": "stream",
          "name": "stdout",
          "text": [
            "Episode 1900 Average Reward: 92.62\n"
          ]
        },
        {
          "output_type": "stream",
          "name": "stderr",
          "text": [
            " 40%|████      | 2000/5000 [14:41<19:04,  2.62it/s]"
          ]
        },
        {
          "output_type": "stream",
          "name": "stdout",
          "text": [
            "Episode 2000 Average Reward: 97.26\n"
          ]
        },
        {
          "output_type": "stream",
          "name": "stderr",
          "text": [
            " 42%|████▏     | 2100/5000 [15:23<19:33,  2.47it/s]"
          ]
        },
        {
          "output_type": "stream",
          "name": "stdout",
          "text": [
            "Episode 2100 Average Reward: 112.18\n"
          ]
        },
        {
          "output_type": "stream",
          "name": "stderr",
          "text": [
            " 44%|████▍     | 2201/5000 [16:01<12:05,  3.86it/s]"
          ]
        },
        {
          "output_type": "stream",
          "name": "stdout",
          "text": [
            "Episode 2200 Average Reward: 98.77\n"
          ]
        },
        {
          "output_type": "stream",
          "name": "stderr",
          "text": [
            " 46%|████▌     | 2300/5000 [16:25<10:40,  4.22it/s]"
          ]
        },
        {
          "output_type": "stream",
          "name": "stdout",
          "text": [
            "Episode 2300 Average Reward: 65.82\n"
          ]
        },
        {
          "output_type": "stream",
          "name": "stderr",
          "text": [
            " 48%|████▊     | 2400/5000 [16:51<07:49,  5.54it/s]"
          ]
        },
        {
          "output_type": "stream",
          "name": "stdout",
          "text": [
            "Episode 2400 Average Reward: 66.83\n"
          ]
        },
        {
          "output_type": "stream",
          "name": "stderr",
          "text": [
            " 50%|█████     | 2500/5000 [17:15<07:56,  5.25it/s]"
          ]
        },
        {
          "output_type": "stream",
          "name": "stdout",
          "text": [
            "Episode 2500 Average Reward: 62.22\n"
          ]
        },
        {
          "output_type": "stream",
          "name": "stderr",
          "text": [
            " 52%|█████▏    | 2600/5000 [17:41<10:39,  3.76it/s]"
          ]
        },
        {
          "output_type": "stream",
          "name": "stdout",
          "text": [
            "Episode 2600 Average Reward: 70.13\n"
          ]
        },
        {
          "output_type": "stream",
          "name": "stderr",
          "text": [
            " 54%|█████▍    | 2700/5000 [18:24<12:14,  3.13it/s]"
          ]
        },
        {
          "output_type": "stream",
          "name": "stdout",
          "text": [
            "Episode 2700 Average Reward: 112.43\n"
          ]
        },
        {
          "output_type": "stream",
          "name": "stderr",
          "text": [
            " 56%|█████▌    | 2800/5000 [18:50<07:41,  4.77it/s]"
          ]
        },
        {
          "output_type": "stream",
          "name": "stdout",
          "text": [
            "Episode 2800 Average Reward: 70.72\n"
          ]
        },
        {
          "output_type": "stream",
          "name": "stderr",
          "text": [
            " 58%|█████▊    | 2901/5000 [19:25<06:41,  5.23it/s]"
          ]
        },
        {
          "output_type": "stream",
          "name": "stdout",
          "text": [
            "Episode 2900 Average Reward: 91.74\n"
          ]
        },
        {
          "output_type": "stream",
          "name": "stderr",
          "text": [
            " 60%|██████    | 3000/5000 [19:55<11:14,  2.97it/s]"
          ]
        },
        {
          "output_type": "stream",
          "name": "stdout",
          "text": [
            "Episode 3000 Average Reward: 78.62\n"
          ]
        },
        {
          "output_type": "stream",
          "name": "stderr",
          "text": [
            " 62%|██████▏   | 3100/5000 [20:25<09:46,  3.24it/s]"
          ]
        },
        {
          "output_type": "stream",
          "name": "stdout",
          "text": [
            "Episode 3100 Average Reward: 76.62\n"
          ]
        },
        {
          "output_type": "stream",
          "name": "stderr",
          "text": [
            " 64%|██████▍   | 3201/5000 [20:56<05:29,  5.47it/s]"
          ]
        },
        {
          "output_type": "stream",
          "name": "stdout",
          "text": [
            "Episode 3200 Average Reward: 81.68\n"
          ]
        },
        {
          "output_type": "stream",
          "name": "stderr",
          "text": [
            " 66%|██████▌   | 3300/5000 [21:18<06:53,  4.11it/s]"
          ]
        },
        {
          "output_type": "stream",
          "name": "stdout",
          "text": [
            "Episode 3300 Average Reward: 56.1\n"
          ]
        },
        {
          "output_type": "stream",
          "name": "stderr",
          "text": [
            " 68%|██████▊   | 3400/5000 [21:46<09:14,  2.88it/s]"
          ]
        },
        {
          "output_type": "stream",
          "name": "stdout",
          "text": [
            "Episode 3400 Average Reward: 74.02\n"
          ]
        },
        {
          "output_type": "stream",
          "name": "stderr",
          "text": [
            " 70%|███████   | 3500/5000 [22:16<04:38,  5.38it/s]"
          ]
        },
        {
          "output_type": "stream",
          "name": "stdout",
          "text": [
            "Episode 3500 Average Reward: 77.77\n"
          ]
        },
        {
          "output_type": "stream",
          "name": "stderr",
          "text": [
            " 72%|███████▏  | 3600/5000 [22:47<05:20,  4.37it/s]"
          ]
        },
        {
          "output_type": "stream",
          "name": "stdout",
          "text": [
            "Episode 3600 Average Reward: 81.01\n"
          ]
        },
        {
          "output_type": "stream",
          "name": "stderr",
          "text": [
            " 74%|███████▍  | 3702/5000 [23:21<02:23,  9.07it/s]"
          ]
        },
        {
          "output_type": "stream",
          "name": "stdout",
          "text": [
            "Episode 3700 Average Reward: 88.74\n"
          ]
        },
        {
          "output_type": "stream",
          "name": "stderr",
          "text": [
            " 76%|███████▌  | 3800/5000 [23:44<05:08,  3.89it/s]"
          ]
        },
        {
          "output_type": "stream",
          "name": "stdout",
          "text": [
            "Episode 3800 Average Reward: 60.46\n"
          ]
        },
        {
          "output_type": "stream",
          "name": "stderr",
          "text": [
            " 78%|███████▊  | 3900/5000 [24:12<06:27,  2.84it/s]"
          ]
        },
        {
          "output_type": "stream",
          "name": "stdout",
          "text": [
            "Episode 3900 Average Reward: 71.42\n"
          ]
        },
        {
          "output_type": "stream",
          "name": "stderr",
          "text": [
            " 80%|████████  | 4000/5000 [24:39<05:55,  2.81it/s]"
          ]
        },
        {
          "output_type": "stream",
          "name": "stdout",
          "text": [
            "Episode 4000 Average Reward: 69.82\n"
          ]
        },
        {
          "output_type": "stream",
          "name": "stderr",
          "text": [
            " 82%|████████▏ | 4100/5000 [25:09<02:37,  5.70it/s]"
          ]
        },
        {
          "output_type": "stream",
          "name": "stdout",
          "text": [
            "Episode 4100 Average Reward: 80.76\n"
          ]
        },
        {
          "output_type": "stream",
          "name": "stderr",
          "text": [
            " 84%|████████▍ | 4200/5000 [25:45<04:21,  3.06it/s]"
          ]
        },
        {
          "output_type": "stream",
          "name": "stdout",
          "text": [
            "Episode 4200 Average Reward: 92.68\n"
          ]
        },
        {
          "output_type": "stream",
          "name": "stderr",
          "text": [
            " 86%|████████▌ | 4300/5000 [26:15<03:22,  3.46it/s]"
          ]
        },
        {
          "output_type": "stream",
          "name": "stdout",
          "text": [
            "Episode 4300 Average Reward: 78.24\n"
          ]
        },
        {
          "output_type": "stream",
          "name": "stderr",
          "text": [
            " 88%|████████▊ | 4401/5000 [26:43<02:20,  4.25it/s]"
          ]
        },
        {
          "output_type": "stream",
          "name": "stdout",
          "text": [
            "Episode 4400 Average Reward: 72.01\n"
          ]
        },
        {
          "output_type": "stream",
          "name": "stderr",
          "text": [
            " 90%|█████████ | 4500/5000 [27:13<04:01,  2.07it/s]"
          ]
        },
        {
          "output_type": "stream",
          "name": "stdout",
          "text": [
            "Episode 4500 Average Reward: 80.25\n"
          ]
        },
        {
          "output_type": "stream",
          "name": "stderr",
          "text": [
            " 92%|█████████▏| 4600/5000 [27:48<01:54,  3.50it/s]"
          ]
        },
        {
          "output_type": "stream",
          "name": "stdout",
          "text": [
            "Episode 4600 Average Reward: 91.62\n"
          ]
        },
        {
          "output_type": "stream",
          "name": "stderr",
          "text": [
            " 94%|█████████▍| 4700/5000 [28:20<00:57,  5.26it/s]"
          ]
        },
        {
          "output_type": "stream",
          "name": "stdout",
          "text": [
            "Episode 4700 Average Reward: 80.11\n"
          ]
        },
        {
          "output_type": "stream",
          "name": "stderr",
          "text": [
            " 96%|█████████▌| 4800/5000 [28:47<00:53,  3.76it/s]"
          ]
        },
        {
          "output_type": "stream",
          "name": "stdout",
          "text": [
            "Episode 4800 Average Reward: 71.38\n"
          ]
        },
        {
          "output_type": "stream",
          "name": "stderr",
          "text": [
            " 98%|█████████▊| 4905/5000 [28:55<00:03, 26.93it/s]"
          ]
        },
        {
          "output_type": "stream",
          "name": "stdout",
          "text": [
            "Episode 4900 Average Reward: 18.71\n"
          ]
        },
        {
          "output_type": "stream",
          "name": "stderr",
          "text": [
            "100%|██████████| 5000/5000 [28:59<00:00,  2.88it/s]"
          ]
        },
        {
          "output_type": "stream",
          "name": "stdout",
          "text": [
            "Episode 5000 Average Reward: 9.47\n"
          ]
        },
        {
          "output_type": "stream",
          "name": "stderr",
          "text": [
            "\n"
          ]
        }
      ]
    },
    {
      "cell_type": "code",
      "source": [
        "rewards = np.array(rewards)\n",
        "print(rewards.shape)\n",
        "plt.plot(100*(np.arange(len(rewards[0])) + 1), np.round(rewards.mean(axis=0), 0))\n",
        "plt.xlabel('Episodes')\n",
        "plt.ylabel('Average Reward')\n",
        "plt.title('Average Reward vs Episodes')\n",
        "# plt.savefig('A2C_Cartpole.png')\n",
        "plt.show()"
      ],
      "metadata": {
        "colab": {
          "base_uri": "https://localhost:8080/",
          "height": 312
        },
        "id": "hPNA1s6EwPKi",
        "outputId": "f7078fe1-3927-4f32-e065-036bbd004181"
      },
      "execution_count": null,
      "outputs": [
        {
          "output_type": "stream",
          "name": "stdout",
          "text": [
            "(1, 50)\n"
          ]
        },
        {
          "output_type": "display_data",
          "data": {
            "text/plain": [
              "<Figure size 432x288 with 1 Axes>"
            ],
            "image/png": "[encoded data removed]"
          },
          "metadata": {
            "needs_background": "light"
          }
        }
      ]
    },
    {
      "cell_type": "code",
      "source": [
        "pickle.dump(rewards, open('A2C_cartpole1.sav', 'wb'))\n"
      ],
      "metadata": {
        "id": "imVzeLIM-A8h"
      },
      "execution_count": null,
      "outputs": []
    },
    {
      "cell_type": "markdown",
      "source": [
        "## Deep Q-Network (DQN)"
      ],
      "metadata": {
        "id": "qoA2FDjxNdUb"
      }
    },
    {
      "cell_type": "code",
      "source": [
        "import torch\n",
        "import torch.nn as nn\n",
        "import torch.nn.functional as F\n",
        "\n",
        "class QNetwork(nn.Module):\n",
        "    \"\"\"Actor (Policy) Model.\"\"\"\n",
        "\n",
        "    def __init__(self, state_size, action_size, seed, fc1_units=64, fc2_units=64):\n",
        "        \"\"\"Initialize parameters and build model.\n",
        "        Params\n",
        "        ======\n",
        "            state_size (int): Dimension of each state\n",
        "            action_size (int): Dimension of each action\n",
        "            seed (int): Random seed\n",
        "            fc1_units (int): Number of nodes in first hidden layer\n",
        "            fc2_units (int): Number of nodes in second hidden layer\n",
        "        \"\"\"\n",
        "        super(QNetwork, self).__init__()\n",
        "        self.seed = torch.manual_seed(seed)\n",
        "        self.fc1 = nn.Linear(state_size, fc1_units)\n",
        "        self.fc2 = nn.Linear(fc1_units, fc2_units)\n",
        "        self.fc3 = nn.Linear(fc2_units, action_size)\n",
        "\n",
        "    def forward(self, state):\n",
        "        \"\"\"Build a network that maps state -> action values.\"\"\"\n",
        "        x = F.relu(self.fc1(state))\n",
        "        x = F.relu(self.fc2(x))\n",
        "        return self.fc3(x)"
      ],
      "metadata": {
        "id": "LbzoVZj3FHaM"
      },
      "execution_count": null,
      "outputs": []
    },
    {
      "cell_type": "code",
      "source": [
        "import numpy as np\n",
        "import random\n",
        "from collections import namedtuple, deque\n",
        "\n",
        "import torch\n",
        "import torch.nn.functional as F\n",
        "import torch.optim as optim\n",
        "import gym\n",
        "\n",
        "BUFFER_SIZE = int(1e5)  # replay buffer size\n",
        "BATCH_SIZE = 64         # minibatch size\n",
        "GAMMA = 0.99            # discount factor\n",
        "TAU = 1e-3              # for soft update of target parameters\n",
        "LR = 5e-4               # learning rate \n",
        "UPDATE_EVERY = 4        # how often to update the network\n",
        "\n",
        "device = torch.device(\"cuda:0\" if torch.cuda.is_available() else \"cpu\")\n",
        "\n",
        "class Agent():\n",
        "    \"\"\"Interacts with and learns from the environment.\"\"\"\n",
        "\n",
        "    def __init__(self, state_size, action_size, seed):\n",
        "        \"\"\"Initialize an Agent object.\n",
        "        \n",
        "        Params\n",
        "        ======\n",
        "            state_size (int): dimension of each state\n",
        "            action_size (int): dimension of each action\n",
        "            seed (int): random seed\n",
        "        \"\"\"\n",
        "        self.state_size = state_size\n",
        "        self.action_size = action_size\n",
        "        self.seed = random.seed(seed)\n",
        "\n",
        "        # Q-Network\n",
        "        self.qnetwork_local = QNetwork(state_size, action_size, seed).to(device)\n",
        "        self.qnetwork_target = QNetwork(state_size, action_size, seed).to(device)\n",
        "        self.optimizer = optim.Adam(self.qnetwork_local.parameters(), lr=LR)\n",
        "\n",
        "        # Replay memory\n",
        "        self.memory = ReplayBuffer(action_size, BUFFER_SIZE, BATCH_SIZE, seed)\n",
        "        # Initialize time step (for updating every UPDATE_EVERY steps)\n",
        "        self.t_step = 0\n",
        "    \n",
        "    def step(self, state, action, reward, next_state, done):\n",
        "        # Save experience in replay memory\n",
        "        self.memory.add(state, action, reward, next_state, done)\n",
        "        \n",
        "        # Learn every UPDATE_EVERY time steps.\n",
        "        self.t_step = (self.t_step + 1) % UPDATE_EVERY\n",
        "        if self.t_step == 0:\n",
        "            # If enough samples are available in memory, get random subset and learn\n",
        "            if len(self.memory) > BATCH_SIZE:\n",
        "                experiences = self.memory.sample()\n",
        "                self.learn(experiences, GAMMA)\n",
        "\n",
        "    def act(self, state, eps=0.):\n",
        "        \"\"\"Returns actions for given state as per current policy.\n",
        "        \n",
        "        Params\n",
        "        ======\n",
        "            state (array_like): current state\n",
        "            eps (float): epsilon, for epsilon-greedy action selection\n",
        "        \"\"\"\n",
        "        state = torch.from_numpy(state).float().unsqueeze(0).to(device)\n",
        "        self.qnetwork_local.eval()\n",
        "        with torch.no_grad():\n",
        "            action_values = self.qnetwork_local(state)\n",
        "        self.qnetwork_local.train()\n",
        "\n",
        "        # Epsilon-greedy action selection\n",
        "        if random.random() > eps:\n",
        "            return np.argmax(action_values.cpu().data.numpy())\n",
        "        else:\n",
        "            return random.choice(np.arange(self.action_size))\n",
        "\n",
        "    def learn(self, experiences, gamma):\n",
        "        \"\"\"Update value parameters using given batch of experience tuples.\n",
        "        Params\n",
        "        ======\n",
        "            experiences (Tuple[torch.Tensor]): tuple of (s, a, r, s', done) tuples \n",
        "            gamma (float): discount factor\n",
        "        \"\"\"\n",
        "        states, actions, rewards, next_states, dones = experiences\n",
        "\n",
        "        # Get max predicted Q values (for next states) from target model\n",
        "        Q_targets_next = self.qnetwork_target(next_states).detach().max(1)[0].unsqueeze(1)\n",
        "        # Compute Q targets for current states \n",
        "        Q_targets = rewards + (gamma * Q_targets_next * (1 - dones))\n",
        "\n",
        "        # Get expected Q values from local model\n",
        "        Q_expected = self.qnetwork_local(states).gather(1, actions)\n",
        "\n",
        "        # Compute loss\n",
        "        loss = F.mse_loss(Q_expected, Q_targets)\n",
        "        # Minimize the loss\n",
        "        self.optimizer.zero_grad()\n",
        "        loss.backward()\n",
        "        self.optimizer.step()\n",
        "\n",
        "        # ------------------- update target network ------------------- #\n",
        "        self.soft_update(self.qnetwork_local, self.qnetwork_target, TAU)                     \n",
        "\n",
        "    def soft_update(self, local_model, target_model, tau):\n",
        "        \"\"\"Soft update model parameters.\n",
        "        θ_target = τ*θ_local + (1 - τ)*θ_target\n",
        "        Params\n",
        "        ======\n",
        "            local_model (PyTorch model): weights will be copied from\n",
        "            target_model (PyTorch model): weights will be copied to\n",
        "            tau (float): interpolation parameter \n",
        "        \"\"\"\n",
        "        for target_param, local_param in zip(target_model.parameters(), local_model.parameters()):\n",
        "            target_param.data.copy_(tau*local_param.data + (1.0-tau)*target_param.data)\n",
        "\n",
        "\n",
        "class ReplayBuffer:\n",
        "    \"\"\"Fixed-size buffer to store experience tuples.\"\"\"\n",
        "\n",
        "    def __init__(self, action_size, buffer_size, batch_size, seed):\n",
        "        \"\"\"Initialize a ReplayBuffer object.\n",
        "        Params\n",
        "        ======\n",
        "            action_size (int): dimension of each action\n",
        "            buffer_size (int): maximum size of buffer\n",
        "            batch_size (int): size of each training batch\n",
        "            seed (int): random seed\n",
        "        \"\"\"\n",
        "        self.action_size = action_size\n",
        "        self.memory = deque(maxlen=buffer_size)  \n",
        "        self.batch_size = batch_size\n",
        "        self.experience = namedtuple(\"Experience\", field_names=[\"state\", \"action\", \"reward\", \"next_state\", \"done\"])\n",
        "        self.seed = random.seed(seed)\n",
        "    \n",
        "    def add(self, state, action, reward, next_state, done):\n",
        "        \"\"\"Add a new experience to memory.\"\"\"\n",
        "        e = self.experience(state, action, reward, next_state, done)\n",
        "        self.memory.append(e)\n",
        "    \n",
        "    def sample(self):\n",
        "        \"\"\"Randomly sample a batch of experiences from memory.\"\"\"\n",
        "        experiences = random.sample(self.memory, k=self.batch_size)\n",
        "\n",
        "        states = torch.from_numpy(np.vstack([e.state for e in experiences if e is not None])).float().to(device)\n",
        "        actions = torch.from_numpy(np.vstack([e.action for e in experiences if e is not None])).long().to(device)\n",
        "        rewards = torch.from_numpy(np.vstack([e.reward for e in experiences if e is not None])).float().to(device)\n",
        "        next_states = torch.from_numpy(np.vstack([e.next_state for e in experiences if e is not None])).float().to(device)\n",
        "        dones = torch.from_numpy(np.vstack([e.done for e in experiences if e is not None]).astype(np.uint8)).float().to(device)\n",
        "  \n",
        "        return (states, actions, rewards, next_states, dones)\n",
        "\n",
        "    def __len__(self):\n",
        "        \"\"\"Return the current size of internal memory.\"\"\"\n",
        "        return len(self.memory)\n",
        "\n",
        "env = gym.make(\"CartPole-v0\")\n",
        "env.seed(0)\n",
        "agent = Agent(state_size=env.observation_space.shape[0], action_size=env.action_space.n, seed=0)"
      ],
      "metadata": {
        "id": "Wkm9TG2VFU3M"
      },
      "execution_count": null,
      "outputs": []
    },
    {
      "cell_type": "code",
      "source": [
        "def dqn(n_episodes=5000, max_t=1000, eps_start=1.0, eps_end=0.01, eps_decay=0.995):\n",
        "    \"\"\"Deep Q-Learning.\n",
        "    \n",
        "    Params\n",
        "    ======\n",
        "        n_episodes (int): maximum number of training episodes\n",
        "        max_t (int): maximum number of timesteps per episode\n",
        "        eps_start (float): starting value of epsilon, for epsilon-greedy action selection\n",
        "        eps_end (float): minimum value of epsilon\n",
        "        eps_decay (float): multiplicative factor (per episode) for decreasing epsilon\n",
        "    \"\"\"\n",
        "    scores = []                        # list containing scores from each episode\n",
        "    scores_window = deque(maxlen=100)  # last 100 scores\n",
        "    eps = eps_start                    # initialize epsilon\n",
        "    for i_episode in range(1, n_episodes+1):\n",
        "        state = env.reset()\n",
        "        score = 0\n",
        "        done = False\n",
        "        while not done:\n",
        "            action = agent.act(state, eps)\n",
        "            next_state, reward, done, _ = env.step(action)\n",
        "            agent.step(state, action, reward, next_state, done)\n",
        "            state = next_state\n",
        "            score += reward\n",
        "            if done:\n",
        "                break \n",
        "        scores_window.append(score)       # save most recent score\n",
        "        scores.append(score)              # save most recent score\n",
        "        eps = max(eps_end, eps_decay*eps) # decrease epsilon\n",
        "        print('\\rEpisode {}\\tAverage Score: {:.2f}'.format(i_episode, np.mean(scores_window)), end=\"\")\n",
        "        if i_episode % 100 == 0:\n",
        "            print('\\rEpisode {}\\tAverage Score: {:.2f}'.format(i_episode, np.mean(scores_window)))\n",
        "        # if np.mean(scores_window)>=200.0:\n",
        "        #     print('\\nEnvironment solved in {:d} episodes!\\tAverage Score: {:.2f}'.format(i_episode-100, np.mean(scores_window)))\n",
        "    torch.save(agent.qnetwork_local.state_dict(), 'checkpoint.pth')\n",
        "\n",
        "    return scores\n",
        "\n",
        "scores = dqn()"
      ],
      "metadata": {
        "colab": {
          "base_uri": "https://localhost:8080/"
        },
        "id": "TmsZ66MQFcAP",
        "outputId": "b4ffd4dc-95c0-4c7d-9520-de3ea818946a"
      },
      "execution_count": null,
      "outputs": [
        {
          "output_type": "stream",
          "name": "stdout",
          "text": [
            "Episode 100\tAverage Score: 16.91\n",
            "Episode 200\tAverage Score: 12.41\n",
            "Episode 300\tAverage Score: 11.05\n",
            "Episode 400\tAverage Score: 10.32\n",
            "Episode 500\tAverage Score: 9.88\n",
            "Episode 600\tAverage Score: 9.77\n",
            "Episode 700\tAverage Score: 9.93\n",
            "Episode 800\tAverage Score: 11.20\n",
            "Episode 900\tAverage Score: 14.18\n",
            "Episode 1000\tAverage Score: 77.95\n",
            "Episode 1100\tAverage Score: 183.51\n",
            "Episode 1200\tAverage Score: 185.66\n",
            "Episode 1300\tAverage Score: 186.70\n",
            "Episode 1400\tAverage Score: 179.88\n",
            "Episode 1500\tAverage Score: 182.71\n",
            "Episode 1600\tAverage Score: 188.82\n",
            "Episode 1700\tAverage Score: 192.42\n",
            "Episode 1800\tAverage Score: 185.13\n",
            "Episode 1900\tAverage Score: 165.81\n",
            "Episode 2000\tAverage Score: 151.84\n",
            "Episode 2100\tAverage Score: 149.11\n",
            "Episode 2200\tAverage Score: 145.98\n",
            "Episode 2300\tAverage Score: 143.12\n",
            "Episode 2400\tAverage Score: 152.27\n",
            "Episode 2500\tAverage Score: 150.45\n",
            "Episode 2600\tAverage Score: 172.99\n",
            "Episode 2700\tAverage Score: 166.16\n",
            "Episode 2800\tAverage Score: 179.73\n",
            "Episode 2900\tAverage Score: 177.74\n",
            "Episode 3000\tAverage Score: 169.71\n",
            "Episode 3100\tAverage Score: 169.15\n",
            "Episode 3200\tAverage Score: 172.77\n",
            "Episode 3300\tAverage Score: 171.41\n",
            "Episode 3400\tAverage Score: 168.72\n",
            "Episode 3500\tAverage Score: 178.49\n",
            "Episode 3600\tAverage Score: 182.24\n",
            "Episode 3700\tAverage Score: 175.97\n",
            "Episode 3800\tAverage Score: 160.16\n",
            "Episode 3900\tAverage Score: 152.55\n",
            "Episode 4000\tAverage Score: 166.54\n",
            "Episode 4100\tAverage Score: 179.30\n",
            "Episode 4200\tAverage Score: 186.94\n",
            "Episode 4300\tAverage Score: 193.17\n",
            "Episode 4400\tAverage Score: 195.41\n",
            "Episode 4500\tAverage Score: 197.98\n",
            "Episode 4600\tAverage Score: 195.98\n",
            "Episode 4700\tAverage Score: 197.81\n",
            "Episode 4800\tAverage Score: 199.30\n",
            "Episode 4900\tAverage Score: 194.81\n",
            "Episode 5000\tAverage Score: 195.58\n"
          ]
        }
      ]
    },
    {
      "cell_type": "code",
      "source": [
        "rewards_a2c = pickle.load(open('A2C_cartpole.sav', 'rb'))\n",
        "rewards_dqn = pickle.load(open('DQN_cartpole.sav', 'rb'))\n",
        "\n",
        "avg_rewards_dqn = []\n",
        "for i in range(0, 5000, 100):\n",
        "    avg_rewards_dqn.append(np.mean(rewards_dqn[i:i+100]))\n",
        "rewards_dqn = [avg_rewards_dqn]\n",
        "\n",
        "rewards_dqn = np.array(rewards_dqn)\n",
        "print(rewards_dqn.shape)\n",
        "rewards_a2c = np.array(rewards_a2c)\n",
        "print(rewards_a2c.shape)\n",
        "plt.plot(100*(np.arange(len(rewards_dqn[0])) + 1), rewards_dqn.mean(axis=0), label='DQN')\n",
        "plt.plot(100*(np.arange(len(rewards_a2c[0])) + 1), rewards_a2c.mean(axis=0), label='A2C')\n",
        "plt.xlabel('Episodes')\n",
        "plt.ylabel('Average Reward')\n",
        "plt.title('Average Reward vs Episodes')\n",
        "plt.legend()\n",
        "plt.savefig('Cartpole_deeprl.png')\n",
        "plt.show()"
      ],
      "metadata": {
        "colab": {
          "base_uri": "https://localhost:8080/",
          "height": 330
        },
        "outputId": "ff88b71c-dec0-4d49-c98f-3f876ef508e9",
        "id": "hT7hC7s9P8y4"
      },
      "execution_count": null,
      "outputs": [
        {
          "output_type": "stream",
          "name": "stdout",
          "text": [
            "(1, 50)\n",
            "(1, 50)\n"
          ]
        },
        {
          "output_type": "display_data",
          "data": {
            "text/plain": [
              "<Figure size 432x288 with 1 Axes>"
            ],
            "image/png": "[encoded data removed]"
          },
          "metadata": {
            "needs_background": "light"
          }
        }
      ]
    },
    {
      "cell_type": "code",
      "source": [
        ""
      ],
      "metadata": {
        "id": "BueVDeKeOUW9"
      },
      "execution_count": null,
      "outputs": []
    }
  ]
}